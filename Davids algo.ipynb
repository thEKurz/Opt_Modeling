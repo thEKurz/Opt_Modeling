{
 "cells": [
  {
   "cell_type": "code",
   "execution_count": 1,
   "id": "2d326c14",
   "metadata": {},
   "outputs": [
    {
     "ename": "RuntimeError",
     "evalue": "module compiled against API version 0xe but this version of numpy is 0xd",
     "output_type": "error",
     "traceback": [
      "\u001b[0;31m---------------------------------------------------------------------------\u001b[0m",
      "\u001b[0;31mRuntimeError\u001b[0m                              Traceback (most recent call last)",
      "\u001b[0;31mRuntimeError\u001b[0m: module compiled against API version 0xe but this version of numpy is 0xd"
     ]
    },
    {
     "name": "stdout",
     "output_type": "stream",
     "text": [
      "(CVXPY) May 07 11:04:39 AM: Encountered unexpected exception importing solver ECOS:\n",
      "ImportError('numpy.core.multiarray failed to import')\n"
     ]
    },
    {
     "ename": "RuntimeError",
     "evalue": "module compiled against API version 0xe but this version of numpy is 0xd",
     "output_type": "error",
     "traceback": [
      "\u001b[0;31m---------------------------------------------------------------------------\u001b[0m",
      "\u001b[0;31mRuntimeError\u001b[0m                              Traceback (most recent call last)",
      "\u001b[0;31mRuntimeError\u001b[0m: module compiled against API version 0xe but this version of numpy is 0xd"
     ]
    },
    {
     "name": "stdout",
     "output_type": "stream",
     "text": [
      "(CVXPY) May 07 11:04:39 AM: Encountered unexpected exception importing solver ECOS_BB:\n",
      "ImportError('numpy.core.multiarray failed to import')\n"
     ]
    }
   ],
   "source": [
    "import pandas as pd\n",
    "from pandas_datareader import data, wb\n",
    "from datetime import datetime\n",
    "import matplotlib.pyplot as plt\n",
    "from scipy import stats, integrate\n",
    "from pypfopt.expected_returns import mean_historical_return\n",
    "from pypfopt.risk_models import CovarianceShrinkage, sample_cov\n",
    "import bs4 as bs\n",
    "import requests\n",
    "import yfinance as yf\n",
    "import seaborn as sns\n",
    "from collections import OrderedDict, defaultdict\n",
    "\n",
    "import cvxpy as cp"
   ]
  },
  {
   "cell_type": "code",
   "execution_count": 2,
   "id": "5d00120f-d08a-4987-a13c-125fc1046921",
   "metadata": {},
   "outputs": [],
   "source": [
    "import numpy as np"
   ]
  },
  {
   "cell_type": "markdown",
   "id": "9754e689",
   "metadata": {},
   "source": [
    "## Get Universe - Current S&P 500 stocks that exhisted in 2002"
   ]
  },
  {
   "cell_type": "code",
   "execution_count": 17,
   "id": "2137c4d6",
   "metadata": {},
   "outputs": [
    {
     "name": "stdout",
     "output_type": "stream",
     "text": [
      "[*********************100%***********************]  504 of 504 completed\n",
      "\n",
      "3 Failed downloads:\n",
      "- BRK.B: No data found, symbol may be delisted\n",
      "- CEG: Data doesn't exist for startDate = 946702800, endDate = 1641013200\n",
      "- BF.B: No data found for this date range, symbol may be delisted\n"
     ]
    }
   ],
   "source": [
    "resp = requests.get('http://en.wikipedia.org/wiki/List_of_S%26P_500_companies')\n",
    "soup = bs.BeautifulSoup(resp.text, 'lxml')\n",
    "table = soup.find('table', {'class': 'wikitable sortable'})\n",
    "tickers = []\n",
    "for row in table.findAll('tr')[1:]:\n",
    "    ticker = row.findAll('td')[0].text\n",
    "    tickers.append(ticker)\n",
    "\n",
    "tickers = [s.replace('\\n', '') for s in tickers]\n",
    "start = datetime(2000,1,1)\n",
    "end = datetime(2022,1,1)\n",
    "data = yf.download(tickers, start=start, end=end)"
   ]
  },
  {
   "cell_type": "code",
   "execution_count": 18,
   "id": "0c01d086",
   "metadata": {
    "scrolled": true
   },
   "outputs": [],
   "source": [
    "data.index = pd.to_datetime(data.index)\n",
    "data = data.sort_index()\n",
    "SP_Close = data['Adj Close']\n",
    "SP_Close=SP_Close.dropna(axis=0, how='all')\n",
    "SP_Close=SP_Close.dropna(axis=1)"
   ]
  },
  {
   "cell_type": "markdown",
   "id": "7882ab58",
   "metadata": {},
   "source": [
    "## Testing Initial Portfolio without Bayes"
   ]
  },
  {
   "cell_type": "code",
   "execution_count": 19,
   "id": "2020bce4",
   "metadata": {},
   "outputs": [
    {
     "data": {
      "text/html": [
       "<div>\n",
       "<style scoped>\n",
       "    .dataframe tbody tr th:only-of-type {\n",
       "        vertical-align: middle;\n",
       "    }\n",
       "\n",
       "    .dataframe tbody tr th {\n",
       "        vertical-align: top;\n",
       "    }\n",
       "\n",
       "    .dataframe thead th {\n",
       "        text-align: right;\n",
       "    }\n",
       "</style>\n",
       "<table border=\"1\" class=\"dataframe\">\n",
       "  <thead>\n",
       "    <tr style=\"text-align: right;\">\n",
       "      <th></th>\n",
       "      <th>A</th>\n",
       "      <th>AAPL</th>\n",
       "      <th>ABC</th>\n",
       "      <th>ABMD</th>\n",
       "      <th>ABT</th>\n",
       "      <th>ADBE</th>\n",
       "      <th>ADI</th>\n",
       "      <th>ADM</th>\n",
       "      <th>ADP</th>\n",
       "      <th>ADSK</th>\n",
       "      <th>...</th>\n",
       "      <th>WMT</th>\n",
       "      <th>WRB</th>\n",
       "      <th>WST</th>\n",
       "      <th>WY</th>\n",
       "      <th>XEL</th>\n",
       "      <th>XOM</th>\n",
       "      <th>XRAY</th>\n",
       "      <th>YUM</th>\n",
       "      <th>ZBRA</th>\n",
       "      <th>ZION</th>\n",
       "    </tr>\n",
       "    <tr>\n",
       "      <th>Date</th>\n",
       "      <th></th>\n",
       "      <th></th>\n",
       "      <th></th>\n",
       "      <th></th>\n",
       "      <th></th>\n",
       "      <th></th>\n",
       "      <th></th>\n",
       "      <th></th>\n",
       "      <th></th>\n",
       "      <th></th>\n",
       "      <th></th>\n",
       "      <th></th>\n",
       "      <th></th>\n",
       "      <th></th>\n",
       "      <th></th>\n",
       "      <th></th>\n",
       "      <th></th>\n",
       "      <th></th>\n",
       "      <th></th>\n",
       "      <th></th>\n",
       "      <th></th>\n",
       "    </tr>\n",
       "  </thead>\n",
       "  <tbody>\n",
       "    <tr>\n",
       "      <th>2005-01-07</th>\n",
       "      <td>13.948149</td>\n",
       "      <td>1.057321</td>\n",
       "      <td>11.317925</td>\n",
       "      <td>14.29</td>\n",
       "      <td>15.050692</td>\n",
       "      <td>29.384233</td>\n",
       "      <td>23.419273</td>\n",
       "      <td>14.685474</td>\n",
       "      <td>22.294916</td>\n",
       "      <td>34.282318</td>\n",
       "      <td>...</td>\n",
       "      <td>37.189430</td>\n",
       "      <td>6.975884</td>\n",
       "      <td>10.584787</td>\n",
       "      <td>13.893994</td>\n",
       "      <td>9.064569</td>\n",
       "      <td>28.189127</td>\n",
       "      <td>24.471766</td>\n",
       "      <td>12.140297</td>\n",
       "      <td>53.099998</td>\n",
       "      <td>49.812931</td>\n",
       "    </tr>\n",
       "    <tr>\n",
       "      <th>2005-01-10</th>\n",
       "      <td>13.880587</td>\n",
       "      <td>1.052894</td>\n",
       "      <td>11.317925</td>\n",
       "      <td>14.42</td>\n",
       "      <td>15.196448</td>\n",
       "      <td>29.404230</td>\n",
       "      <td>23.327047</td>\n",
       "      <td>14.806498</td>\n",
       "      <td>22.310621</td>\n",
       "      <td>34.222351</td>\n",
       "      <td>...</td>\n",
       "      <td>37.003429</td>\n",
       "      <td>7.007395</td>\n",
       "      <td>10.730641</td>\n",
       "      <td>13.951581</td>\n",
       "      <td>9.189453</td>\n",
       "      <td>28.296692</td>\n",
       "      <td>25.020784</td>\n",
       "      <td>12.142911</td>\n",
       "      <td>53.840000</td>\n",
       "      <td>49.843582</td>\n",
       "    </tr>\n",
       "    <tr>\n",
       "      <th>2005-01-11</th>\n",
       "      <td>13.641053</td>\n",
       "      <td>0.985713</td>\n",
       "      <td>11.345290</td>\n",
       "      <td>14.31</td>\n",
       "      <td>14.917613</td>\n",
       "      <td>29.054298</td>\n",
       "      <td>23.109655</td>\n",
       "      <td>14.598059</td>\n",
       "      <td>22.352486</td>\n",
       "      <td>32.373302</td>\n",
       "      <td>...</td>\n",
       "      <td>36.913879</td>\n",
       "      <td>7.011896</td>\n",
       "      <td>10.605627</td>\n",
       "      <td>13.819963</td>\n",
       "      <td>9.220675</td>\n",
       "      <td>28.223095</td>\n",
       "      <td>25.020784</td>\n",
       "      <td>12.182207</td>\n",
       "      <td>51.669998</td>\n",
       "      <td>49.874237</td>\n",
       "    </tr>\n",
       "    <tr>\n",
       "      <th>2005-01-12</th>\n",
       "      <td>13.622631</td>\n",
       "      <td>0.999455</td>\n",
       "      <td>11.349197</td>\n",
       "      <td>14.17</td>\n",
       "      <td>14.952656</td>\n",
       "      <td>29.484215</td>\n",
       "      <td>23.425869</td>\n",
       "      <td>14.503921</td>\n",
       "      <td>22.148373</td>\n",
       "      <td>31.953520</td>\n",
       "      <td>...</td>\n",
       "      <td>37.251415</td>\n",
       "      <td>7.058412</td>\n",
       "      <td>10.684800</td>\n",
       "      <td>13.782942</td>\n",
       "      <td>9.210269</td>\n",
       "      <td>28.642071</td>\n",
       "      <td>24.935286</td>\n",
       "      <td>12.085081</td>\n",
       "      <td>50.910000</td>\n",
       "      <td>49.406689</td>\n",
       "    </tr>\n",
       "    <tr>\n",
       "      <th>2005-01-13</th>\n",
       "      <td>13.333963</td>\n",
       "      <td>1.065719</td>\n",
       "      <td>11.161544</td>\n",
       "      <td>12.45</td>\n",
       "      <td>14.665907</td>\n",
       "      <td>29.104290</td>\n",
       "      <td>23.122829</td>\n",
       "      <td>14.692195</td>\n",
       "      <td>21.719221</td>\n",
       "      <td>31.763618</td>\n",
       "      <td>...</td>\n",
       "      <td>36.948322</td>\n",
       "      <td>7.074917</td>\n",
       "      <td>10.605627</td>\n",
       "      <td>13.686287</td>\n",
       "      <td>9.298725</td>\n",
       "      <td>28.619415</td>\n",
       "      <td>24.669773</td>\n",
       "      <td>11.911839</td>\n",
       "      <td>51.060001</td>\n",
       "      <td>48.831837</td>\n",
       "    </tr>\n",
       "  </tbody>\n",
       "</table>\n",
       "<p>5 rows × 367 columns</p>\n",
       "</div>"
      ],
      "text/plain": [
       "                    A      AAPL        ABC   ABMD        ABT       ADBE  \\\n",
       "Date                                                                      \n",
       "2005-01-07  13.948149  1.057321  11.317925  14.29  15.050692  29.384233   \n",
       "2005-01-10  13.880587  1.052894  11.317925  14.42  15.196448  29.404230   \n",
       "2005-01-11  13.641053  0.985713  11.345290  14.31  14.917613  29.054298   \n",
       "2005-01-12  13.622631  0.999455  11.349197  14.17  14.952656  29.484215   \n",
       "2005-01-13  13.333963  1.065719  11.161544  12.45  14.665907  29.104290   \n",
       "\n",
       "                  ADI        ADM        ADP       ADSK  ...        WMT  \\\n",
       "Date                                                    ...              \n",
       "2005-01-07  23.419273  14.685474  22.294916  34.282318  ...  37.189430   \n",
       "2005-01-10  23.327047  14.806498  22.310621  34.222351  ...  37.003429   \n",
       "2005-01-11  23.109655  14.598059  22.352486  32.373302  ...  36.913879   \n",
       "2005-01-12  23.425869  14.503921  22.148373  31.953520  ...  37.251415   \n",
       "2005-01-13  23.122829  14.692195  21.719221  31.763618  ...  36.948322   \n",
       "\n",
       "                 WRB        WST         WY       XEL        XOM       XRAY  \\\n",
       "Date                                                                         \n",
       "2005-01-07  6.975884  10.584787  13.893994  9.064569  28.189127  24.471766   \n",
       "2005-01-10  7.007395  10.730641  13.951581  9.189453  28.296692  25.020784   \n",
       "2005-01-11  7.011896  10.605627  13.819963  9.220675  28.223095  25.020784   \n",
       "2005-01-12  7.058412  10.684800  13.782942  9.210269  28.642071  24.935286   \n",
       "2005-01-13  7.074917  10.605627  13.686287  9.298725  28.619415  24.669773   \n",
       "\n",
       "                  YUM       ZBRA       ZION  \n",
       "Date                                         \n",
       "2005-01-07  12.140297  53.099998  49.812931  \n",
       "2005-01-10  12.142911  53.840000  49.843582  \n",
       "2005-01-11  12.182207  51.669998  49.874237  \n",
       "2005-01-12  12.085081  50.910000  49.406689  \n",
       "2005-01-13  11.911839  51.060001  48.831837  \n",
       "\n",
       "[5 rows x 367 columns]"
      ]
     },
     "execution_count": 19,
     "metadata": {},
     "output_type": "execute_result"
    }
   ],
   "source": [
    "five_year_data=SP_Close[:1265] #5 years of data\n",
    "five_year_data.tail()"
   ]
  },
  {
   "cell_type": "code",
   "execution_count": 20,
   "id": "1d2ec8d8",
   "metadata": {},
   "outputs": [
    {
     "name": "stdout",
     "output_type": "stream",
     "text": [
      "Expected annual return: 44.8%\n",
      "Annual volatility: 13.6%\n",
      "Sharpe Ratio: 3.15\n",
      "(0.44813885009695, 0.1359156203085475, 3.150034183893027)\n"
     ]
    }
   ],
   "source": [
    "from pypfopt.efficient_frontier import EfficientFrontier\n",
    "\n",
    "mu = mean_historical_return(five_year_data)\n",
    "S = CovarianceShrinkage(five_year_data).ledoit_wolf()\n",
    "ef = EfficientFrontier(mu, S)\n",
    "weights = ef.max_sharpe()\n",
    "cleaned_weights = ef.clean_weights()\n",
    "print(ef.portfolio_performance(verbose=True))\n",
    "\n"
   ]
  },
  {
   "cell_type": "markdown",
   "id": "edd1ad6c",
   "metadata": {},
   "source": [
    "## Look at some correlations and clustering to gather ideas"
   ]
  },
  {
   "cell_type": "code",
   "execution_count": 21,
   "id": "92d57956",
   "metadata": {},
   "outputs": [],
   "source": [
    "corr = five_year_data.corr()\n",
    "#plt.figure(figsize=(12,8))\n",
    "#sns.clustermap(corr)"
   ]
  },
  {
   "cell_type": "code",
   "execution_count": 22,
   "id": "20952a5d",
   "metadata": {},
   "outputs": [],
   "source": [
    "import scipy.cluster.hierarchy as shc\n",
    "#dimensions = SP_Close.shape[1]\n",
    "#plt.figure(figsize=(10, 7))  \n",
    "#plt.title(\"Dendrograms\")  \n",
    "#dend = shc.dendrogram(shc.linkage(corr, method='ward'))"
   ]
  },
  {
   "cell_type": "markdown",
   "id": "dc3ab771-5951-4ad4-9c3a-1a31063c4169",
   "metadata": {},
   "source": [
    "## Clustering algorithm using rule: select minimum number of clusters such that at most stock_pct_thresh of stocks are in clusters with an internal corr of corr_thresh"
   ]
  },
  {
   "cell_type": "code",
   "execution_count": 23,
   "id": "2c4e6e32-57e4-43de-9aa6-99bafb953db8",
   "metadata": {},
   "outputs": [],
   "source": [
    "from sklearn.cluster import AgglomerativeClustering\n",
    "#rule is to select number of clusters clusters such that at most stock_pct_thresh of stocks are in clusters \n",
    "#with an internal corr of corr_thresh\n",
    "\n",
    "def get_clusters(corr, cluster_number = 45, Thresh = None):\n",
    "    if Thresh == None:\n",
    "        cluster = AgglomerativeClustering(n_clusters=cluster_number, affinity='euclidean', linkage='ward')\n",
    "    else:\n",
    "        cluster = AgglomerativeClustering(n_clusters=None, affinity='euclidean', linkage='ward',distance_threshold=Thresh) \n",
    "    kclusters = cluster.fit_predict(corr)\n",
    "    stock_clusters=pd.DataFrame(SP_Close.columns.values)\n",
    "    stock_clusters=stock_clusters.set_index(0)\n",
    "    stock_clusters['cluster']=kclusters\n",
    "    return stock_clusters\n",
    "\n",
    "def constrained_clusters(corr, corr_thresh = .7, stock_pct_thresh = .1):\n",
    "    ix = -1 #start at highest threshold and move backward\n",
    "    threshes = np.exp(np.arange(0,5,.05))#need a better system for this to make it not dependant on number of assets, \n",
    "\n",
    "    for i in range(len(threshes)):\n",
    "        thresh = threshes[ix]\n",
    "        stock_clusters = get_clusters(corr, Thresh = thresh)\n",
    "        cluster_number = stock_clusters['cluster'].max()+1\n",
    "\n",
    "        internal_corr_average = np.zeros([cluster_number])\n",
    "        for n in range(cluster_number):\n",
    "            cluster_corr = corr.loc[stock_clusters.loc[stock_clusters['cluster']==n].index,stock_clusters.loc[stock_clusters['cluster']==n].index]\n",
    "            internal_corr_average[n] = cluster_corr.mean().mean()\n",
    "\n",
    "        clustersWInternalCorrLessThanThreshold = np.argwhere(internal_corr_average<corr_thresh).flatten()\n",
    "        percent_stocks_in_bad_clusters = len(stock_clusters.loc[stock_clusters['cluster'].isin(clustersWInternalCorrLessThanThreshold)])/len(stock_clusters)\n",
    "        if percent_stocks_in_bad_clusters > stock_pct_thresh:\n",
    "            ix-=1\n",
    "        else:\n",
    "            break\n",
    "    print(\"# of clusters:\", cluster_number)\n",
    "    print(\"percent of stocks in clusters with internal corr of less than corr_thresh:\", percent_stocks_in_bad_clusters)\n",
    "\n",
    "    #run clustering with chosen optimal method\n",
    "    return get_clusters(corr, cluster_number = cluster_number)\n",
    "\n",
    "\n",
    "#test cluster corr\n",
    "\n",
    "#temp = plt.hist(internal_corr_average,bins=15)\n",
    "#plt.title(\"hist of ave of internal correlation matrices\")\n",
    "#plt.show()"
   ]
  },
  {
   "cell_type": "markdown",
   "id": "8922ab9a-e02d-4f3b-adbe-34ad991026a5",
   "metadata": {},
   "source": [
    "## backtest"
   ]
  },
  {
   "cell_type": "code",
   "execution_count": 30,
   "id": "47d0591b",
   "metadata": {},
   "outputs": [],
   "source": [
    "#shrinkage\n",
    "def calculate_posterior_mean(like_pop, prior_pop): #for returns use geo mean then nultiply by 252 to annualize at end\n",
    "    w0 = prior_pop.std()\n",
    "    mu0 = prior_pop.mean() - w0**2/2\n",
    "    w = like_pop.std()\n",
    "    dbar = like_pop.mean() - w**2/2\n",
    "\n",
    "    # Prior:\n",
    "    prior = stats.norm(mu0, w0)\n",
    "    \n",
    "    # Likelihood:\n",
    "    like = stats.norm(dbar, w)\n",
    "    \n",
    "    #computer posterior mean, std, distribution\n",
    "    B = w**2/(w**2+w0**2)\n",
    "    mu_s =dbar+B*(mu0-dbar)\n",
    "    w_s = w*np.sqrt(1-B)\n",
    "    posterior = stats.norm(mu_s, w_s)\n",
    "    return mu_s * 252"
   ]
  },
  {
   "cell_type": "markdown",
   "id": "623d85b6",
   "metadata": {},
   "source": [
    "## Markowitz Rebalancer"
   ]
  },
  {
   "cell_type": "code",
   "execution_count": 25,
   "id": "30d1590a-ce41-4011-a3ef-3c500663d553",
   "metadata": {},
   "outputs": [
    {
     "name": "stdout",
     "output_type": "stream",
     "text": [
      "# of clusters: 44\n",
      "percent of stocks in clusters with internal corr of less than corr_thresh: 0.08174386920980926\n"
     ]
    }
   ],
   "source": [
    "clusters = constrained_clusters(corr,)\n",
    "#get_clusters(corr, cluster_number = 46)"
   ]
  },
  {
   "cell_type": "code",
   "execution_count": 26,
   "id": "39cbea69",
   "metadata": {},
   "outputs": [],
   "source": [
    "def Markowits_Bayes_Rebalance(securities_vector, \n",
    "                              rebalance_period,\n",
    "                              prior_period,\n",
    "                              update_period=0,\n",
    "                              verbose=True,\n",
    "                              weight_bounds=(-.01,.1),\n",
    "                              cluster_num = 44,\n",
    "                              mean_shrink = False, \n",
    "                              corr_shrink = True):\n",
    "    i=1\n",
    "    i_ =round((len(securities_vector)-prior_period)/rebalance_period)\n",
    "    weights_list=[]\n",
    "    dates=[]\n",
    "    for p in range(0,len(securities_vector)-prior_period,rebalance_period): #\n",
    "        \n",
    "        prior_vector = securities_vector[p:prior_period+p]\n",
    "        \n",
    "        if verbose:\n",
    "            print(\"Iteration \" + str(i) + \" of \" + str(i_))\n",
    "            print(str(prior_vector.index[0]) + \" - \" + str(prior_vector.index[-1]))\n",
    "        \n",
    "        mu = mean_historical_return(prior_vector)\n",
    "        \n",
    "        if mean_shrink == True:\n",
    "            clusters = get_clusters(prior_vector.corr(), cluster_number = cluster_num)\n",
    "            for i in range(cluster_num):\n",
    "                stocksNcluster = clusters.loc[clusters['cluster']==i].index\n",
    "                for stock in stocksNcluster:\n",
    "                    mu[stock] = calculate_posterior_mean(five_year_data[stock].pct_change().dropna().to_numpy(),\n",
    "                                                         five_year_data[stocksNcluster].pct_change().dropna().to_numpy())\n",
    "            \n",
    "        if corr_shrink == True:\n",
    "            S = CovarianceShrinkage(prior_vector).ledoit_wolf()\n",
    "        else:\n",
    "            S = sample_cov(prior_vector)                          #is this right?\n",
    "            \n",
    "        mu = mean_historical_return(prior_vector)\n",
    "        S = CovarianceShrinkage(prior_vector).ledoit_wolf()\n",
    "        ef = EfficientFrontier(mu, S,weight_bounds=weight_bounds)\n",
    "        weights = ef.max_sharpe()\n",
    "        cleaned_weights = ef.clean_weights()\n",
    "        weights_list.append(cleaned_weights)\n",
    "        dates.append(prior_vector.index[-1])\n",
    "        i+=1\n",
    "    weight_df=pd.DataFrame(weights_list)\n",
    "    weight_df.index=dates\n",
    "\n",
    "    return weight_df"
   ]
  },
  {
   "cell_type": "code",
   "execution_count": 27,
   "id": "be89cc87",
   "metadata": {},
   "outputs": [],
   "source": [
    "monthly_vanilla_markowitz_weights = Markowits_Bayes_Rebalance(SP_Close,21,252*5, verbose=False) #monthly rebalance with 5 year matrix\n",
    "return_frame = SP_Close.loc[monthly_vanilla_markowitz_weights.index]\n",
    "return_frame = np.exp(np.log(return_frame).diff())-1\n",
    "weighted_returns=monthly_vanilla_markowitz_weights.shift(1)*return_frame\n",
    "port_returns = np.sum(weighted_returns, axis=1).rename('Vanilla')"
   ]
  },
  {
   "cell_type": "code",
   "execution_count": 28,
   "id": "b2c4af9e-a9b0-4274-86f0-4f20f91d1006",
   "metadata": {},
   "outputs": [],
   "source": [
    "monthly_shrunk_markowitz_weights = Markowits_Bayes_Rebalance(SP_Close,21,252*5, cluster_num = 44, mean_shrink = True,verbose=False) #monthly rebalance with 5 year matrix\n",
    "return_shrunk_frame = SP_Close.loc[monthly_shrunk_markowitz_weights.index]\n",
    "return_shrunk_frame = np.exp(np.log(return_shrunk_frame).diff())-1\n",
    "weighted_shrunk_returns=monthly_shrunk_markowitz_weights.shift(1)*return_shrunk_frame\n",
    "port_shrunk_returns = np.sum(weighted_shrunk_returns, axis=1).rename('shrunk')"
   ]
  },
  {
   "cell_type": "code",
   "execution_count": 29,
   "id": "a55083b1-f6c6-4869-ac52-5d968d070271",
   "metadata": {},
   "outputs": [
    {
     "data": {
      "text/plain": [
       "<AxesSubplot:>"
      ]
     },
     "execution_count": 29,
     "metadata": {},
     "output_type": "execute_result"
    },
    {
     "data": {
      "image/png": "[encoded data removed]",
      "text/plain": [
       "<Figure size 432x288 with 1 Axes>"
      ]
     },
     "metadata": {
      "needs_background": "light"
     },
     "output_type": "display_data"
    }
   ],
   "source": [
    "(pd.concat([port_returns,port_shrunk_returns],axis=1)+1).cumprod().plot()"
   ]
  },
  {
   "cell_type": "code",
   "execution_count": null,
   "id": "51cc4068",
   "metadata": {},
   "outputs": [],
   "source": [
    "#question: update clusters at each rebalance?\n",
    "#need to fix. my algorithm assumes a solution is feasible, need a better system for choosing thresholds\n"
   ]
  }
 ],
 "metadata": {
  "kernelspec": {
   "display_name": "tfenv",
   "language": "python",
   "name": "tfenv"
  },
  "language_info": {
   "codemirror_mode": {
    "name": "ipython",
    "version": 3
   },
   "file_extension": ".py",
   "mimetype": "text/x-python",
   "name": "python",
   "nbconvert_exporter": "python",
   "pygments_lexer": "ipython3",
   "version": "3.8.10"
  }
 },
 "nbformat": 4,
 "nbformat_minor": 5
}
