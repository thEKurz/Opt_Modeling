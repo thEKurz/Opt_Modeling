{
 "cells": [
  {
   "cell_type": "code",
   "execution_count": 45,
   "id": "2d326c14",
   "metadata": {},
   "outputs": [],
   "source": [
    "import pandas as pd\n",
    "import numpy as np\n",
    "from pandas_datareader import data, wb\n",
    "from datetime import datetime\n",
    "import matplotlib.pyplot as plt\n",
    "from scipy import stats, integrate\n",
    "from pypfopt.expected_returns import mean_historical_return\n",
    "from pypfopt.risk_models import CovarianceShrinkage\n",
    "from pypfopt.efficient_frontier import EfficientFrontier\n",
    "import bs4 as bs\n",
    "import requests\n",
    "import yfinance as yf\n",
    "import seaborn as sns\n",
    "import cvxpy as cp\n",
    "from sklearn.cluster import AgglomerativeClustering"
   ]
  },
  {
   "cell_type": "code",
   "execution_count": 46,
   "id": "0c01d086",
   "metadata": {
    "scrolled": true,
    "tags": []
   },
   "outputs": [],
   "source": [
    "#read in stock data from pi\n",
    "SP_Close = pd.read_pickle('SP_Close.pkl')\n",
    "SP_train = SP_Close[:'2018-01-01']\n",
    "SP_test = SP_Close['2018-01-01':]"
   ]
  },
  {
   "cell_type": "code",
   "execution_count": 47,
   "id": "d1188f17",
   "metadata": {},
   "outputs": [
    {
     "name": "stdout",
     "output_type": "stream",
     "text": [
      "C:\\Users\\taino\\Downloads\\ORIE5370\n"
     ]
    }
   ],
   "source": [
    "import os\n",
    "\n",
    "print(os.getcwd())"
   ]
  },
  {
   "cell_type": "code",
   "execution_count": 48,
   "id": "a51b0bdc",
   "metadata": {},
   "outputs": [
    {
     "name": "stdout",
     "output_type": "stream",
     "text": [
      "['arrr_1652840184.pkl', 'arrr_1652840648.pkl']\n"
     ]
    }
   ],
   "source": [
    "import os\n",
    "\n",
    "files = []\n",
    "\n",
    "# print(os.listdir(os.getcwd()))\n",
    "for i in os.listdir(os.getcwd()+'\\\\final_res3'):\n",
    "#     print(i)\n",
    "    if '.pkl' in i and 'arrr_' in i:\n",
    "        files.append(i)\n",
    "#         print(i)\n",
    "        \n",
    "print(files)"
   ]
  },
  {
   "cell_type": "code",
   "execution_count": 27,
   "id": "bb858ae3",
   "metadata": {},
   "outputs": [
    {
     "ename": "AttributeError",
     "evalue": "Can't get attribute '_unpickle_block' on <module 'pandas._libs.internals' from 'C:\\\\Users\\\\taino\\\\anaconda3\\\\lib\\\\site-packages\\\\pandas\\\\_libs\\\\internals.cp38-win_amd64.pyd'>",
     "output_type": "error",
     "traceback": [
      "\u001b[1;31m---------------------------------------------------------------------------\u001b[0m",
      "\u001b[1;31mAttributeError\u001b[0m                            Traceback (most recent call last)",
      "\u001b[1;32m~\\AppData\\Local\\Temp/ipykernel_18804/4112263388.py\u001b[0m in \u001b[0;36m<module>\u001b[1;34m\u001b[0m\n\u001b[0;32m      2\u001b[0m \u001b[1;33m\u001b[0m\u001b[0m\n\u001b[0;32m      3\u001b[0m \u001b[1;32mwith\u001b[0m \u001b[0mopen\u001b[0m\u001b[1;33m(\u001b[0m\u001b[1;34m'final_res1\\\\arrr_1652829789.pickle'\u001b[0m\u001b[1;33m,\u001b[0m \u001b[1;34m'rb'\u001b[0m\u001b[1;33m)\u001b[0m \u001b[1;32mas\u001b[0m \u001b[0mhandle\u001b[0m\u001b[1;33m:\u001b[0m\u001b[1;33m\u001b[0m\u001b[1;33m\u001b[0m\u001b[0m\n\u001b[1;32m----> 4\u001b[1;33m     \u001b[0morigg\u001b[0m \u001b[1;33m=\u001b[0m \u001b[0mpickle\u001b[0m\u001b[1;33m.\u001b[0m\u001b[0mload\u001b[0m\u001b[1;33m(\u001b[0m\u001b[0mhandle\u001b[0m\u001b[1;33m)\u001b[0m\u001b[1;33m\u001b[0m\u001b[1;33m\u001b[0m\u001b[0m\n\u001b[0m\u001b[0;32m      5\u001b[0m \u001b[0mprint\u001b[0m\u001b[1;33m(\u001b[0m\u001b[0morigg\u001b[0m\u001b[1;33m)\u001b[0m\u001b[1;33m\u001b[0m\u001b[1;33m\u001b[0m\u001b[0m\n\u001b[0;32m      6\u001b[0m \u001b[0mprint\u001b[0m\u001b[1;33m(\u001b[0m\u001b[0mlen\u001b[0m\u001b[1;33m(\u001b[0m\u001b[0morigg\u001b[0m\u001b[1;33m)\u001b[0m\u001b[1;33m)\u001b[0m\u001b[1;33m\u001b[0m\u001b[1;33m\u001b[0m\u001b[0m\n",
      "\u001b[1;31mAttributeError\u001b[0m: Can't get attribute '_unpickle_block' on <module 'pandas._libs.internals' from 'C:\\\\Users\\\\taino\\\\anaconda3\\\\lib\\\\site-packages\\\\pandas\\\\_libs\\\\internals.cp38-win_amd64.pyd'>"
     ]
    }
   ],
   "source": [
    "import pickle\n",
    "\n",
    "with open('final_res1\\\\arrr_1652829789.pickle', 'rb') as handle:\n",
    "    origg = pickle.load(handle)\n",
    "print(origg)\n",
    "print(len(origg))"
   ]
  },
  {
   "cell_type": "code",
   "execution_count": 28,
   "id": "6f7bc586",
   "metadata": {},
   "outputs": [
    {
     "name": "stdout",
     "output_type": "stream",
     "text": [
      "5\n"
     ]
    }
   ],
   "source": [
    "print(pickle.HIGHEST_PROTOCOL)"
   ]
  },
  {
   "cell_type": "code",
   "execution_count": 19,
   "id": "106199fe",
   "metadata": {},
   "outputs": [],
   "source": [
    "files = ['arrr_1652828480.pkl', 'arrr_1652829247.pkl', 'arrr_1652829400.pkl', 'arrr_1652829790.pkl']"
   ]
  },
  {
   "cell_type": "code",
   "execution_count": 49,
   "id": "fff8021b",
   "metadata": {},
   "outputs": [
    {
     "name": "stdout",
     "output_type": "stream",
     "text": [
      "<_io.BufferedReader name='C:\\\\Users\\\\taino\\\\Downloads\\\\ORIE5370\\\\final_res3\\\\arrr_1652840184.pkl'>\n",
      "(63, 759, 63, False, (-0.002, 0.1), 6, -0.05, 0.75, 0.05, 50, True)\n",
      "1\n",
      "(63, 1812, 63, False, (-0.002, 0.1), 6, -0.05, 0.75, 0.05, 50, True)\n",
      "2\n",
      "(63, 506, 63, False, (-0.002, 0.1), 4, -0.05, 0.75, 0.05, None, True)\n",
      "3\n",
      "(63, 506, 63, False, (-0.002, 0.1), 4, -0.05, 0.75, 0.05, 50, True)\n",
      "4\n",
      "<_io.BufferedReader name='C:\\\\Users\\\\taino\\\\Downloads\\\\ORIE5370\\\\final_res3\\\\arrr_1652840648.pkl'>\n",
      "(63, 1812, 63, False, (-0.002, 0.1), 6, -0.05, 0.75, 0.05, None, True)\n",
      "5\n",
      "(63, 1812, 63, False, (-0.002, 0.1), 4, -0.05, 0.75, 0.05, 50, True)\n",
      "6\n",
      "(63, 1812, 63, False, (-0.002, 0.1), 5, -0.05, 0.75, 0.05, 50, True)\n",
      "7\n",
      "(63, 759, 63, False, (-0.002, 0.1), 4, -0.05, 0.75, 0.05, 50, True)\n",
      "8\n",
      "(63, 759, 63, False, (-0.002, 0.1), 4, -0.05, 0.75, 0.05, None, True)\n",
      "9\n",
      "(63, 1812, 63, False, (-0.002, 0.1), 4, -0.05, 0.75, 0.05, None, True)\n",
      "10\n",
      "(63, 506, 63, False, (-0.002, 0.1), 5, -0.05, 0.75, 0.05, None, True)\n",
      "11\n",
      "(63, 506, 63, False, (-0.002, 0.1), 5, -0.05, 0.75, 0.05, 50, True)\n",
      "12\n",
      "(63, 506, 63, False, (-0.002, 0.1), 6, -0.05, 0.75, 0.05, 50, True)\n",
      "13\n",
      "(63, 506, 63, False, (-0.002, 0.1), 6, -0.05, 0.75, 0.05, None, True)\n",
      "14\n",
      "(63, 759, 63, False, (-0.002, 0.1), 5, -0.05, 0.75, 0.05, None, True)\n",
      "15\n",
      "(63, 759, 63, False, (-0.002, 0.1), 6, -0.05, 0.75, 0.05, None, True)\n",
      "16\n",
      "(63, 1812, 63, False, (-0.002, 0.1), 5, -0.05, 0.75, 0.05, None, True)\n",
      "17\n",
      "(63, 759, 63, False, (-0.002, 0.1), 5, -0.05, 0.75, 0.05, 50, True)\n",
      "18\n"
     ]
    }
   ],
   "source": [
    "import pickle\n",
    "\n",
    "res = {}\n",
    "\n",
    "for i in files:\n",
    "    with open(os.getcwd()+'\\\\final_res3\\\\'+i, 'rb') as handle:\n",
    "        print(handle)\n",
    "        try:\n",
    "            orig = pickle.load(handle)\n",
    "        except AttributeError:\n",
    "            orig = pd.read_pickle(handle)\n",
    "    for j in orig.keys():\n",
    "        print(j)\n",
    "#         if j in res:\n",
    "#             assert(np.allclose(orig[j], res[j]))\n",
    "#         else:\n",
    "        if j not in res:\n",
    "            res[j] = orig[j]\n",
    "\n",
    "            print(len(res))"
   ]
  },
  {
   "cell_type": "code",
   "execution_count": 50,
   "id": "649fcde4",
   "metadata": {},
   "outputs": [
    {
     "name": "stdout",
     "output_type": "stream",
     "text": [
      "3\n"
     ]
    }
   ],
   "source": [
    "ctt = 0\n",
    "\n",
    "for i in res.keys():\n",
    "    if res[i] is None:\n",
    "        ctt += 1\n",
    "\n",
    "print(ctt)"
   ]
  },
  {
   "cell_type": "code",
   "execution_count": 51,
   "id": "87537324",
   "metadata": {},
   "outputs": [
    {
     "name": "stdout",
     "output_type": "stream",
     "text": [
      "18\n"
     ]
    }
   ],
   "source": [
    "print(len(res))"
   ]
  },
  {
   "cell_type": "code",
   "execution_count": 38,
   "id": "74d6b7d3",
   "metadata": {},
   "outputs": [],
   "source": [
    "with open(\"res_old1.pickle\", 'wb') as handle:\n",
    "    pickle.dump(res, handle, protocol=pickle.HIGHEST_PROTOCOL)"
   ]
  },
  {
   "cell_type": "code",
   "execution_count": 52,
   "id": "332b332b",
   "metadata": {},
   "outputs": [],
   "source": [
    "def Portfolio_backtest(weight_vector, securities_vector=SP_train,daily_rebalance = False,title=None):\n",
    "    weight_vector_n = weight_vector\n",
    "    weight_vector_n = weight_vector.reindex(weight_vector.index.union(securities_vector.index))\n",
    "    weight_vector_n = weight_vector_n[weight_vector.index[0]:]\n",
    "    return_frame = np.exp(np.log(securities_vector).diff())-1\n",
    "    return_frame = return_frame[weight_vector.index[0]:]\n",
    "    if daily_rebalance:\n",
    "        weight_vector_n=weight_vector_n.ffill()\n",
    "    else:\n",
    "        for p in range(len(weight_vector_n)):\n",
    "            if np.isnan(weight_vector_n.iloc[p,1]):\n",
    "                new_weights_unnormalized = weight_vector_n.iloc[p-1,:]*(return_frame.iloc[p-1,:]+1)\n",
    "                weight_vector_n.iloc[p,:] = new_weights_unnormalized/sum(new_weights_unnormalized)\n",
    "                \n",
    "\n",
    "\n",
    "    weighted_returns=weight_vector_n.shift(1)*return_frame\n",
    "    port_returns = np.sum(weighted_returns, axis=1) #shift so that we are using the weights we had over that period rather than the ones we found with hindsight\n",
    "    port_returns = port_returns[weight_vector.index[0]:]\n",
    "    total_return=(port_returns+1).cumprod()\n",
    "    total_return.plot()\n",
    "#     reports.metrics(port_returns,mode='basic')\n",
    "    plt.title('Cumulative Return')\n",
    "    if title != None:\n",
    "        plt.title(title)\n",
    "        plt.savefig(title)\n",
    "    return total_return"
   ]
  },
  {
   "cell_type": "code",
   "execution_count": 53,
   "id": "7b8d0557",
   "metadata": {},
   "outputs": [
    {
     "name": "stdout",
     "output_type": "stream",
     "text": [
      "1\n",
      "2\n",
      "3\n",
      "4\n",
      "5\n",
      "6\n",
      "7\n",
      "8\n",
      "9\n",
      "10\n",
      "11\n",
      "12\n",
      "13\n",
      "14\n",
      "15\n",
      "15\n"
     ]
    },
    {
     "data": {
      "image/png": "[encoded data removed]",
      "text/plain": [
       "<Figure size 432x288 with 1 Axes>"
      ]
     },
     "metadata": {
      "needs_background": "light"
     },
     "output_type": "display_data"
    }
   ],
   "source": [
    "ctt = 0\n",
    "resnew = {}\n",
    "\n",
    "for i in res.keys():\n",
    "    if res[i] is not None:\n",
    "        resnew[i] = Portfolio_backtest(res[i])\n",
    "        ctt += 1\n",
    "        print(ctt)\n",
    "print(len(resnew))"
   ]
  },
  {
   "cell_type": "code",
   "execution_count": 54,
   "id": "11b54c9a",
   "metadata": {},
   "outputs": [
    {
     "name": "stdout",
     "output_type": "stream",
     "text": [
      "{(63, 759, 63, False, (-0.002, 0.1), 6, -0.05, 0.75, 0.05, 50, True): 2003-01-10    1.000000\n",
      "2003-01-13    0.998382\n",
      "2003-01-14    1.002533\n",
      "2003-01-15    1.000431\n",
      "2003-01-16    1.001577\n",
      "                ...   \n",
      "2017-12-22    9.814698\n",
      "2017-12-26    9.807036\n",
      "2017-12-27    9.823912\n",
      "2017-12-28    9.839844\n",
      "2017-12-29    9.818251\n",
      "Length: 3770, dtype: float64, (63, 1812, 63, False, (-0.002, 0.1), 6, -0.05, 0.75, 0.05, 50, True): 2007-03-20    1.000000\n",
      "2007-03-21    1.010081\n",
      "2007-03-22    1.012356\n",
      "2007-03-23    1.018039\n",
      "2007-03-26    1.012427\n",
      "                ...   \n",
      "2017-12-22    3.436400\n",
      "2017-12-26    3.441321\n",
      "2017-12-27    3.442646\n",
      "2017-12-28    3.449355\n",
      "2017-12-29    3.435550\n",
      "Length: 2717, dtype: float64, (63, 506, 63, False, (-0.002, 0.1), 4, -0.05, 0.75, 0.05, None, True): 2002-01-09    1.000000\n",
      "2002-01-10    1.000221\n",
      "2002-01-11    0.995311\n",
      "2002-01-14    1.000533\n",
      "2002-01-15    1.005610\n",
      "                ...   \n",
      "2017-12-22    9.124951\n",
      "2017-12-26    9.128215\n",
      "2017-12-27    9.147073\n",
      "2017-12-28    9.188461\n",
      "2017-12-29    9.151613\n",
      "Length: 4023, dtype: float64, (63, 506, 63, False, (-0.002, 0.1), 4, -0.05, 0.75, 0.05, 50, True): 2002-01-09    1.000000\n",
      "2002-01-10    1.005696\n",
      "2002-01-11    1.002233\n",
      "2002-01-14    1.011069\n",
      "2002-01-15    1.019314\n",
      "                ...   \n",
      "2017-12-22    9.626979\n",
      "2017-12-26    9.638305\n",
      "2017-12-27    9.655640\n",
      "2017-12-28    9.700578\n",
      "2017-12-29    9.663521\n",
      "Length: 4023, dtype: float64, (63, 1812, 63, False, (-0.002, 0.1), 4, -0.05, 0.75, 0.05, 50, True): 2007-03-20    1.000000\n",
      "2007-03-21    1.011156\n",
      "2007-03-22    1.013423\n",
      "2007-03-23    1.018592\n",
      "2007-03-26    1.012610\n",
      "                ...   \n",
      "2017-12-22    3.459703\n",
      "2017-12-26    3.462968\n",
      "2017-12-27    3.466244\n",
      "2017-12-28    3.475388\n",
      "2017-12-29    3.461621\n",
      "Length: 2717, dtype: float64, (63, 1812, 63, False, (-0.002, 0.1), 5, -0.05, 0.75, 0.05, 50, True): 2007-03-20    1.000000\n",
      "2007-03-21    1.010606\n",
      "2007-03-22    1.012860\n",
      "2007-03-23    1.018259\n",
      "2007-03-26    1.012481\n",
      "                ...   \n",
      "2017-12-22    3.460595\n",
      "2017-12-26    3.465276\n",
      "2017-12-27    3.467477\n",
      "2017-12-28    3.475214\n",
      "2017-12-29    3.461108\n",
      "Length: 2717, dtype: float64, (63, 759, 63, False, (-0.002, 0.1), 4, -0.05, 0.75, 0.05, 50, True): 2003-01-10     1.000000\n",
      "2003-01-13     0.999121\n",
      "2003-01-14     1.003592\n",
      "2003-01-15     1.000085\n",
      "2003-01-16     1.000274\n",
      "                ...    \n",
      "2017-12-22    10.616248\n",
      "2017-12-26    10.617864\n",
      "2017-12-27    10.634690\n",
      "2017-12-28    10.656283\n",
      "2017-12-29    10.631095\n",
      "Length: 3770, dtype: float64, (63, 759, 63, False, (-0.002, 0.1), 4, -0.05, 0.75, 0.05, None, True): 2003-01-10    1.000000\n",
      "2003-01-13    1.000845\n",
      "2003-01-14    1.008553\n",
      "2003-01-15    1.006429\n",
      "2003-01-16    1.006693\n",
      "                ...   \n",
      "2017-12-22    9.472673\n",
      "2017-12-26    9.450135\n",
      "2017-12-27    9.469598\n",
      "2017-12-28    9.496930\n",
      "2017-12-29    9.465577\n",
      "Length: 3770, dtype: float64, (63, 506, 63, False, (-0.002, 0.1), 5, -0.05, 0.75, 0.05, None, True): 2002-01-09    1.000000\n",
      "2002-01-10    1.000374\n",
      "2002-01-11    0.995563\n",
      "2002-01-14    1.000094\n",
      "2002-01-15    1.005546\n",
      "                ...   \n",
      "2017-12-22    9.197921\n",
      "2017-12-26    9.200715\n",
      "2017-12-27    9.219295\n",
      "2017-12-28    9.260749\n",
      "2017-12-29    9.224694\n",
      "Length: 4023, dtype: float64, (63, 506, 63, False, (-0.002, 0.1), 5, -0.05, 0.75, 0.05, 50, True): 2002-01-09    1.000000\n",
      "2002-01-10    1.005654\n",
      "2002-01-11    1.001846\n",
      "2002-01-14    1.010532\n",
      "2002-01-15    1.019379\n",
      "                ...   \n",
      "2017-12-22    9.818717\n",
      "2017-12-26    9.830542\n",
      "2017-12-27    9.849605\n",
      "2017-12-28    9.895929\n",
      "2017-12-29    9.859307\n",
      "Length: 4023, dtype: float64, (63, 506, 63, False, (-0.002, 0.1), 6, -0.05, 0.75, 0.05, 50, True): 2002-01-09    1.000000\n",
      "2002-01-10    1.005515\n",
      "2002-01-11    1.001752\n",
      "2002-01-14    1.010609\n",
      "2002-01-15    1.019793\n",
      "                ...   \n",
      "2017-12-22    9.684629\n",
      "2017-12-26    9.694758\n",
      "2017-12-27    9.714139\n",
      "2017-12-28    9.758242\n",
      "2017-12-29    9.723029\n",
      "Length: 4023, dtype: float64, (63, 506, 63, False, (-0.002, 0.1), 6, -0.05, 0.75, 0.05, None, True): 2002-01-09    1.000000\n",
      "2002-01-10    1.000556\n",
      "2002-01-11    0.995500\n",
      "2002-01-14    0.998838\n",
      "2002-01-15    1.004814\n",
      "                ...   \n",
      "2017-12-22    9.597215\n",
      "2017-12-26    9.600868\n",
      "2017-12-27    9.619618\n",
      "2017-12-28    9.662154\n",
      "2017-12-29    9.624859\n",
      "Length: 4023, dtype: float64, (63, 759, 63, False, (-0.002, 0.1), 5, -0.05, 0.75, 0.05, None, True): 2003-01-10    1.000000\n",
      "2003-01-13    1.000723\n",
      "2003-01-14    1.008099\n",
      "2003-01-15    1.005962\n",
      "2003-01-16    1.006297\n",
      "                ...   \n",
      "2017-12-22    9.744871\n",
      "2017-12-26    9.721873\n",
      "2017-12-27    9.741727\n",
      "2017-12-28    9.769810\n",
      "2017-12-29    9.737107\n",
      "Length: 3770, dtype: float64, (63, 759, 63, False, (-0.002, 0.1), 6, -0.05, 0.75, 0.05, None, True): 2003-01-10    1.000000\n",
      "2003-01-13    1.000532\n",
      "2003-01-14    1.007855\n",
      "2003-01-15    1.005630\n",
      "2003-01-16    1.005818\n",
      "                ...   \n",
      "2017-12-22    9.773642\n",
      "2017-12-26    9.750108\n",
      "2017-12-27    9.768954\n",
      "2017-12-28    9.796806\n",
      "2017-12-29    9.763879\n",
      "Length: 3770, dtype: float64, (63, 759, 63, False, (-0.002, 0.1), 5, -0.05, 0.75, 0.05, 50, True): 2003-01-10     1.000000\n",
      "2003-01-13     0.998785\n",
      "2003-01-14     1.002954\n",
      "2003-01-15     1.000150\n",
      "2003-01-16     1.000836\n",
      "                ...    \n",
      "2017-12-22    10.374633\n",
      "2017-12-26    10.372695\n",
      "2017-12-27    10.389372\n",
      "2017-12-28    10.407513\n",
      "2017-12-29    10.383249\n",
      "Length: 3770, dtype: float64}\n"
     ]
    }
   ],
   "source": [
    "print(resnew)"
   ]
  },
  {
   "cell_type": "code",
   "execution_count": 55,
   "id": "8d3b6deb",
   "metadata": {},
   "outputs": [],
   "source": [
    "with open(\"res_old3.pickle\", 'wb') as handle:\n",
    "    pickle.dump(resnew, handle, protocol=pickle.HIGHEST_PROTOCOL)"
   ]
  },
  {
   "cell_type": "code",
   "execution_count": 37,
   "id": "01b81b4c",
   "metadata": {},
   "outputs": [
    {
     "ename": "FileNotFoundError",
     "evalue": "[Errno 2] No such file or directory: 'res_old1.pickle'",
     "output_type": "error",
     "traceback": [
      "\u001b[1;31m---------------------------------------------------------------------------\u001b[0m",
      "\u001b[1;31mFileNotFoundError\u001b[0m                         Traceback (most recent call last)",
      "\u001b[1;32m~\\AppData\\Local\\Temp/ipykernel_18804/3930548195.py\u001b[0m in \u001b[0;36m<module>\u001b[1;34m\u001b[0m\n\u001b[0;32m      1\u001b[0m \u001b[1;32mimport\u001b[0m \u001b[0mpickle\u001b[0m\u001b[1;33m\u001b[0m\u001b[1;33m\u001b[0m\u001b[0m\n\u001b[0;32m      2\u001b[0m \u001b[1;33m\u001b[0m\u001b[0m\n\u001b[1;32m----> 3\u001b[1;33m \u001b[1;32mwith\u001b[0m \u001b[0mopen\u001b[0m\u001b[1;33m(\u001b[0m\u001b[1;34m\"res_old1.pickle\"\u001b[0m\u001b[1;33m,\u001b[0m \u001b[1;34m'rb'\u001b[0m\u001b[1;33m)\u001b[0m \u001b[1;32mas\u001b[0m \u001b[0mhandle\u001b[0m\u001b[1;33m:\u001b[0m\u001b[1;33m\u001b[0m\u001b[1;33m\u001b[0m\u001b[0m\n\u001b[0m\u001b[0;32m      4\u001b[0m     \u001b[0mres_dict\u001b[0m \u001b[1;33m=\u001b[0m \u001b[0mpickle\u001b[0m\u001b[1;33m.\u001b[0m\u001b[0mload\u001b[0m\u001b[1;33m(\u001b[0m\u001b[0mhandle\u001b[0m\u001b[1;33m)\u001b[0m\u001b[1;33m\u001b[0m\u001b[1;33m\u001b[0m\u001b[0m\n\u001b[0;32m      5\u001b[0m \u001b[0mprint\u001b[0m\u001b[1;33m(\u001b[0m\u001b[0mlen\u001b[0m\u001b[1;33m(\u001b[0m\u001b[0mres_dict\u001b[0m\u001b[1;33m)\u001b[0m\u001b[1;33m)\u001b[0m\u001b[1;33m\u001b[0m\u001b[1;33m\u001b[0m\u001b[0m\n",
      "\u001b[1;31mFileNotFoundError\u001b[0m: [Errno 2] No such file or directory: 'res_old1.pickle'"
     ]
    }
   ],
   "source": [
    "import pickle\n",
    "\n",
    "with open(\"res_old.pickle\", 'rb') as handle:\n",
    "    res_dict = pickle.load(handle)\n",
    "print(len(res_dict))\n",
    "print(res_dict)"
   ]
  },
  {
   "cell_type": "code",
   "execution_count": 39,
   "id": "e1bdb067",
   "metadata": {},
   "outputs": [
    {
     "name": "stdout",
     "output_type": "stream",
     "text": [
      "278\n",
      "284\n"
     ]
    }
   ],
   "source": [
    "num_63 = 0\n",
    "num_253 = 0\n",
    "\n",
    "for i in res_dict.keys():\n",
    "    if res_dict[i] is not None:\n",
    "        if i[0] == i[2] and i[0] == 63:\n",
    "            num_63 += 1\n",
    "        elif i[0] == i[2] and i[0] == 253:\n",
    "            num_253 += 1\n",
    "            \n",
    "print(num_63)\n",
    "print(num_253)"
   ]
  },
  {
   "cell_type": "code",
   "execution_count": 40,
   "id": "ac7e7b6c",
   "metadata": {},
   "outputs": [
    {
     "name": "stdout",
     "output_type": "stream",
     "text": [
      "238\n",
      "0\n"
     ]
    }
   ],
   "source": [
    "num_63 = 0\n",
    "num_253 = 0\n",
    "\n",
    "for i in res_dict.keys():\n",
    "    if res_dict[i] is not None:\n",
    "        if i[0] != i[2] and i[0] == 63:\n",
    "            num_63 += 1\n",
    "        elif i[0] != i[2] and i[0] == 253:\n",
    "            num_253 += 1\n",
    "            \n",
    "print(num_63)\n",
    "print(num_253)"
   ]
  },
  {
   "cell_type": "code",
   "execution_count": null,
   "id": "8edab45f",
   "metadata": {},
   "outputs": [],
   "source": []
  },
  {
   "cell_type": "code",
   "execution_count": 21,
   "id": "3e40062a",
   "metadata": {},
   "outputs": [
    {
     "name": "stdout",
     "output_type": "stream",
     "text": [
      "2005-01-13    0.000000\n",
      "2005-04-15    0.052360\n",
      "2005-07-15    0.125928\n",
      "2005-10-13   -0.028780\n",
      "2006-01-13    0.186606\n",
      "2006-04-17    0.069398\n",
      "2006-07-17   -0.012516\n",
      "2006-10-13    0.015915\n",
      "2007-01-17    0.010804\n",
      "2007-04-18    0.014848\n",
      "2007-07-18   -0.036519\n",
      "2007-10-16    0.018120\n",
      "2008-01-16    0.048111\n",
      "2008-04-17   -0.081535\n",
      "2008-07-17   -0.010088\n",
      "2008-10-15   -0.182436\n",
      "2009-01-15   -0.107488\n",
      "2009-04-17   -0.081116\n",
      "2009-07-17    0.006583\n",
      "2009-10-15   -0.053419\n",
      "2010-01-15    0.035027\n",
      "2010-04-19    0.076592\n",
      "2010-07-19   -0.037617\n",
      "2010-10-15    0.075122\n",
      "2011-01-14    0.048629\n",
      "2011-04-15    0.076318\n",
      "2011-07-18    0.036865\n",
      "2011-10-14    0.037945\n",
      "2012-01-17   -0.010075\n",
      "2012-04-17    0.024709\n",
      "2012-07-17    0.091935\n",
      "2012-10-15   -0.033922\n",
      "2013-01-17   -0.026552\n",
      "2013-04-19    0.124865\n",
      "2013-07-19   -0.020092\n",
      "2013-10-17    0.026810\n",
      "2014-01-17    0.079651\n",
      "2014-04-21   -0.004551\n",
      "2014-07-21    0.062615\n",
      "2014-10-17   -0.011543\n",
      "2015-01-20    0.166949\n",
      "2015-04-21   -0.019902\n",
      "2015-07-21    0.039302\n",
      "2015-10-19    0.013784\n",
      "2016-01-20    0.040053\n",
      "2016-04-20    0.049471\n",
      "2016-07-20    0.101780\n",
      "2016-10-18   -0.056497\n",
      "2017-01-19    0.020474\n",
      "2017-04-20    0.047479\n",
      "2017-07-20    0.078485\n",
      "2017-10-18    0.033877\n",
      "dtype: float64\n"
     ]
    }
   ],
   "source": [
    "print(res[j])"
   ]
  },
  {
   "cell_type": "code",
   "execution_count": null,
   "id": "b3d50a33",
   "metadata": {},
   "outputs": [],
   "source": [
    "PICKLE_NAME = \"cc3.pickle\"\n",
    "with open(PICKLE_NAME, 'rb') as handle:\n",
    "    list_of_tuples_all = pickle.load(handle)\n",
    "print(list_of_tuples_all[0],list_of_tuples_all[-1])\n",
    "print(list_of_tuples_all)"
   ]
  },
  {
   "cell_type": "code",
   "execution_count": null,
   "id": "c54fad3a",
   "metadata": {},
   "outputs": [],
   "source": [
    "list_of_tuples_all.reverse()\n",
    "print(list_of_tuples_all[0],list_of_tuples_all[-1])\n",
    "print(list_of_tuples_all)"
   ]
  },
  {
   "cell_type": "code",
   "execution_count": null,
   "id": "577dcb1b",
   "metadata": {},
   "outputs": [],
   "source": [
    "with open(\"cc3_new.pickle\", 'wb') as handle:\n",
    "    pickle.dump(list_of_tuples_all, handle, protocol=pickle.HIGHEST_PROTOCOL)"
   ]
  },
  {
   "cell_type": "code",
   "execution_count": null,
   "id": "79fb159d",
   "metadata": {},
   "outputs": [],
   "source": [
    "with open(\"cc3_new.pickle\", 'rb') as handle:\n",
    "    list_of_tuples_all = pickle.load(handle)\n",
    "print(list_of_tuples_all[0],list_of_tuples_all[-1])\n",
    "print(list_of_tuples_all)"
   ]
  },
  {
   "cell_type": "code",
   "execution_count": 35,
   "id": "46f51147",
   "metadata": {},
   "outputs": [
    {
     "ename": "AssertionError",
     "evalue": "",
     "output_type": "error",
     "traceback": [
      "\u001b[1;31m---------------------------------------------------------------------------\u001b[0m",
      "\u001b[1;31mAssertionError\u001b[0m                            Traceback (most recent call last)",
      "\u001b[1;32m~\\AppData\\Local\\Temp/ipykernel_17920/2906397334.py\u001b[0m in \u001b[0;36m<module>\u001b[1;34m\u001b[0m\n\u001b[1;32m----> 1\u001b[1;33m \u001b[1;32massert\u001b[0m\u001b[1;33m(\u001b[0m\u001b[1;34m\"new\"\u001b[0m \u001b[1;32min\u001b[0m \u001b[1;34m\"cc3.pickle\"\u001b[0m\u001b[1;33m)\u001b[0m\u001b[1;33m\u001b[0m\u001b[1;33m\u001b[0m\u001b[0m\n\u001b[0m",
      "\u001b[1;31mAssertionError\u001b[0m: "
     ]
    }
   ],
   "source": [
    "assert(\"new\" in \"cc3.pickle\")"
   ]
  },
  {
   "cell_type": "code",
   "execution_count": null,
   "id": "0205ab7b",
   "metadata": {},
   "outputs": [],
   "source": []
  }
 ],
 "metadata": {
  "kernelspec": {
   "display_name": "Python 3 (ipykernel)",
   "language": "python",
   "name": "python3"
  },
  "language_info": {
   "codemirror_mode": {
    "name": "ipython",
    "version": 3
   },
   "file_extension": ".py",
   "mimetype": "text/x-python",
   "name": "python",
   "nbconvert_exporter": "python",
   "pygments_lexer": "ipython3",
   "version": "3.8.3"
  }
 },
 "nbformat": 4,
 "nbformat_minor": 5
}
