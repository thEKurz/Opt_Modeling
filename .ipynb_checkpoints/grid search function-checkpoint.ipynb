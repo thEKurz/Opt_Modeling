{
 "cells": [
  {
   "cell_type": "code",
   "execution_count": null,
   "id": "bc8feb62-2116-4ba7-be22-6be4d963e14b",
   "metadata": {},
   "outputs": [],
   "source": [
    "import itertools\n",
    "import random\n",
    "#add stock thresh list\n",
    "def random_grid_search(securities_vec, number_of_samples = 50, \n",
    "                       rebal_prd_list = [21,63,253],\n",
    "                       prior_prd_list = [253,2*253,5*253],\n",
    "                       update_prd_list = [21,63, 253],\n",
    "                       low_stk_bound_list = [-.007, -.005, -.001],\n",
    "                       up_stk_bound_list = [.01,.02,.05,.1],\n",
    "                       cluster_u_coef_list = [2,3,5],\n",
    "                       cluster_l_coef_list = [-.02, -.05, -.1],\n",
    "                       corr_thesh_list = [.5,.6,.7,.8],\n",
    "                       stock_tresh_list = [.05] ):\n",
    "\n",
    "        \n",
    "    permutations = []\n",
    "    df = pd.DataFrame()\n",
    "    for rebal,prior,update,lstk,ustk,clu,cll,corr,stock in itertools.product(rebal_prd_list, prior_prd_list, update_prd_list, low_stk_bound_list, \\\n",
    "                                                    up_stk_bound_list,cluster_u_coef_list, cluster_l_coef_list, corr_thesh_list, stock_tresh_list):\n",
    "        if update_prd_list >= rebal_prd_list:\n",
    "            permutations.append((rebal,prior,update,lstk,ustk,clu,cll,corr,stock))\n",
    "    list_of_tuples = random.sample(permutations, number_of_samples)\n",
    "    \n",
    "    for tuuple in list_of_tuples:\n",
    "        print(tuuple)\n",
    "        weights,_ = Markowits_Bayes_Cluster_Rebalance(securities_vec, rebalance_period=tuuple[0],prior_period = tuuple[1],update_period=tuuple[2],\\\n",
    "                                      verbose=False, weight_bounds=(tuuple[3],tuuple[4]), cluster_u_coef=tuuple[5], cluster_l_coef=tuuple[6],\\\n",
    "                                          corr_thresh = tuuple[7], leave_out_pct = tuuple[8], clust_num = None)\n",
    "    performance_series = Portfolio_backtest(weights)\n",
    "    df = df.concat(performance_series)\n",
    "    return df"
   ]
  }
 ],
 "metadata": {
  "kernelspec": {
   "display_name": "tfenv",
   "language": "python",
   "name": "tfenv"
  },
  "language_info": {
   "codemirror_mode": {
    "name": "ipython",
    "version": 3
   },
   "file_extension": ".py",
   "mimetype": "text/x-python",
   "name": "python",
   "nbconvert_exporter": "python",
   "pygments_lexer": "ipython3",
   "version": "3.8.10"
  }
 },
 "nbformat": 4,
 "nbformat_minor": 5
}
