{
 "cells": [
  {
   "cell_type": "code",
   "execution_count": 1,
   "id": "2d326c14",
   "metadata": {},
   "outputs": [
    {
     "ename": "RuntimeError",
     "evalue": "module compiled against API version 0xe but this version of numpy is 0xd",
     "output_type": "error",
     "traceback": [
      "\u001b[0;31m---------------------------------------------------------------------------\u001b[0m",
      "\u001b[0;31mRuntimeError\u001b[0m                              Traceback (most recent call last)",
      "\u001b[0;31mRuntimeError\u001b[0m: module compiled against API version 0xe but this version of numpy is 0xd"
     ]
    },
    {
     "name": "stdout",
     "output_type": "stream",
     "text": [
      "(CVXPY) May 15 09:16:50 AM: Encountered unexpected exception importing solver ECOS:\n",
      "ImportError('numpy.core.multiarray failed to import')\n"
     ]
    },
    {
     "ename": "RuntimeError",
     "evalue": "module compiled against API version 0xe but this version of numpy is 0xd",
     "output_type": "error",
     "traceback": [
      "\u001b[0;31m---------------------------------------------------------------------------\u001b[0m",
      "\u001b[0;31mRuntimeError\u001b[0m                              Traceback (most recent call last)",
      "\u001b[0;31mRuntimeError\u001b[0m: module compiled against API version 0xe but this version of numpy is 0xd"
     ]
    },
    {
     "name": "stdout",
     "output_type": "stream",
     "text": [
      "(CVXPY) May 15 09:16:50 AM: Encountered unexpected exception importing solver ECOS_BB:\n",
      "ImportError('numpy.core.multiarray failed to import')\n"
     ]
    }
   ],
   "source": [
    "import pandas as pd\n",
    "import numpy as np\n",
    "from pandas_datareader import data, wb\n",
    "from datetime import datetime\n",
    "import matplotlib.pyplot as plt\n",
    "from scipy import stats, integrate\n",
    "from pypfopt.expected_returns import mean_historical_return\n",
    "from pypfopt.risk_models import CovarianceShrinkage\n",
    "from pypfopt.efficient_frontier import EfficientFrontier\n",
    "import bs4 as bs\n",
    "import requests\n",
    "import yfinance as yf\n",
    "import seaborn as sns\n",
    "import cvxpy as cp\n",
    "from sklearn.cluster import AgglomerativeClustering"
   ]
  },
  {
   "cell_type": "markdown",
   "id": "9754e689",
   "metadata": {},
   "source": [
    "## Get Universe - Current S&P 500 stocks that exhisted in 2002"
   ]
  },
  {
   "cell_type": "code",
   "execution_count": 2,
   "id": "2137c4d6",
   "metadata": {},
   "outputs": [
    {
     "data": {
      "text/plain": [
       "\"\\nresp = requests.get('http://en.wikipedia.org/wiki/List_of_S%26P_500_companies')\\nsoup = bs.BeautifulSoup(resp.text, 'lxml')\\ntable = soup.find('table', {'class': 'wikitable sortable'})\\ntickers = []\\nfor row in table.findAll('tr')[1:]:\\n    ticker = row.findAll('td')[0].text\\n    tickers.append(ticker)\\n\\ntickers = [s.replace('\\n', '') for s in tickers]\\nstart = datetime(2000,1,1)\\nend = datetime(2022,1,1)\\ndata = yf.download(tickers, start=start, end=end)\\n\\ndata.index = pd.to_datetime(data.index)\\ndata = data.sort_index()\\nSP_Close = data['Adj Close']\\nSP_Close=SP_Close.dropna(axis=0, how='all')\\nSP_Close=SP_Close.dropna(axis=1)\\npd.set_option('display.max_rows', 20 )\\nSP_Close\\n\""
      ]
     },
     "execution_count": 2,
     "metadata": {},
     "output_type": "execute_result"
    }
   ],
   "source": [
    "\"\"\"\n",
    "resp = requests.get('http://en.wikipedia.org/wiki/List_of_S%26P_500_companies')\n",
    "soup = bs.BeautifulSoup(resp.text, 'lxml')\n",
    "table = soup.find('table', {'class': 'wikitable sortable'})\n",
    "tickers = []\n",
    "for row in table.findAll('tr')[1:]:\n",
    "    ticker = row.findAll('td')[0].text\n",
    "    tickers.append(ticker)\n",
    "\n",
    "tickers = [s.replace('\\n', '') for s in tickers]\n",
    "start = datetime(2000,1,1)\n",
    "end = datetime(2022,1,1)\n",
    "data = yf.download(tickers, start=start, end=end)\n",
    "\n",
    "data.index = pd.to_datetime(data.index)\n",
    "data = data.sort_index()\n",
    "SP_Close = data['Adj Close']\n",
    "SP_Close=SP_Close.dropna(axis=0, how='all')\n",
    "SP_Close=SP_Close.dropna(axis=1)\n",
    "pd.set_option('display.max_rows', 20 )\n",
    "SP_Close\n",
    "\"\"\""
   ]
  },
  {
   "cell_type": "code",
   "execution_count": 3,
   "id": "0c01d086",
   "metadata": {
    "scrolled": true,
    "tags": []
   },
   "outputs": [],
   "source": [
    "#read in stock data from pi\n",
    "SP_Close = pd.read_pickle('SP_Close.pkl')"
   ]
  },
  {
   "cell_type": "markdown",
   "id": "7882ab58",
   "metadata": {},
   "source": [
    "## Testing Initial Portfolio without Bayes"
   ]
  },
  {
   "cell_type": "code",
   "execution_count": 4,
   "id": "2020bce4",
   "metadata": {},
   "outputs": [
    {
     "data": {
      "text/html": [
       "<div>\n",
       "<style scoped>\n",
       "    .dataframe tbody tr th:only-of-type {\n",
       "        vertical-align: middle;\n",
       "    }\n",
       "\n",
       "    .dataframe tbody tr th {\n",
       "        vertical-align: top;\n",
       "    }\n",
       "\n",
       "    .dataframe thead th {\n",
       "        text-align: right;\n",
       "    }\n",
       "</style>\n",
       "<table border=\"1\" class=\"dataframe\">\n",
       "  <thead>\n",
       "    <tr style=\"text-align: right;\">\n",
       "      <th></th>\n",
       "      <th>A</th>\n",
       "      <th>AAPL</th>\n",
       "      <th>ABC</th>\n",
       "      <th>ABMD</th>\n",
       "      <th>ABT</th>\n",
       "      <th>ADBE</th>\n",
       "      <th>ADI</th>\n",
       "      <th>ADM</th>\n",
       "      <th>ADP</th>\n",
       "      <th>ADSK</th>\n",
       "      <th>...</th>\n",
       "      <th>WMT</th>\n",
       "      <th>WRB</th>\n",
       "      <th>WST</th>\n",
       "      <th>WY</th>\n",
       "      <th>XEL</th>\n",
       "      <th>XOM</th>\n",
       "      <th>XRAY</th>\n",
       "      <th>YUM</th>\n",
       "      <th>ZBRA</th>\n",
       "      <th>ZION</th>\n",
       "    </tr>\n",
       "    <tr>\n",
       "      <th>Date</th>\n",
       "      <th></th>\n",
       "      <th></th>\n",
       "      <th></th>\n",
       "      <th></th>\n",
       "      <th></th>\n",
       "      <th></th>\n",
       "      <th></th>\n",
       "      <th></th>\n",
       "      <th></th>\n",
       "      <th></th>\n",
       "      <th></th>\n",
       "      <th></th>\n",
       "      <th></th>\n",
       "      <th></th>\n",
       "      <th></th>\n",
       "      <th></th>\n",
       "      <th></th>\n",
       "      <th></th>\n",
       "      <th></th>\n",
       "      <th></th>\n",
       "      <th></th>\n",
       "    </tr>\n",
       "  </thead>\n",
       "  <tbody>\n",
       "    <tr>\n",
       "      <th>2005-01-07</th>\n",
       "      <td>13.948145</td>\n",
       "      <td>1.057321</td>\n",
       "      <td>11.317923</td>\n",
       "      <td>14.29</td>\n",
       "      <td>15.050692</td>\n",
       "      <td>29.384233</td>\n",
       "      <td>23.419283</td>\n",
       "      <td>14.685472</td>\n",
       "      <td>22.294916</td>\n",
       "      <td>34.282318</td>\n",
       "      <td>...</td>\n",
       "      <td>37.189400</td>\n",
       "      <td>6.975882</td>\n",
       "      <td>10.584788</td>\n",
       "      <td>13.893993</td>\n",
       "      <td>9.064570</td>\n",
       "      <td>28.189127</td>\n",
       "      <td>24.471771</td>\n",
       "      <td>12.140292</td>\n",
       "      <td>53.099998</td>\n",
       "      <td>49.812916</td>\n",
       "    </tr>\n",
       "    <tr>\n",
       "      <th>2005-01-10</th>\n",
       "      <td>13.880588</td>\n",
       "      <td>1.052894</td>\n",
       "      <td>11.317923</td>\n",
       "      <td>14.42</td>\n",
       "      <td>15.196447</td>\n",
       "      <td>29.404230</td>\n",
       "      <td>23.327053</td>\n",
       "      <td>14.806506</td>\n",
       "      <td>22.310617</td>\n",
       "      <td>34.222351</td>\n",
       "      <td>...</td>\n",
       "      <td>37.003414</td>\n",
       "      <td>7.007394</td>\n",
       "      <td>10.730645</td>\n",
       "      <td>13.951578</td>\n",
       "      <td>9.189453</td>\n",
       "      <td>28.296703</td>\n",
       "      <td>25.020788</td>\n",
       "      <td>12.142917</td>\n",
       "      <td>53.840000</td>\n",
       "      <td>49.843578</td>\n",
       "    </tr>\n",
       "    <tr>\n",
       "      <th>2005-01-11</th>\n",
       "      <td>13.641056</td>\n",
       "      <td>0.985713</td>\n",
       "      <td>11.345287</td>\n",
       "      <td>14.31</td>\n",
       "      <td>14.917611</td>\n",
       "      <td>29.054298</td>\n",
       "      <td>23.109659</td>\n",
       "      <td>14.598061</td>\n",
       "      <td>22.352486</td>\n",
       "      <td>32.373302</td>\n",
       "      <td>...</td>\n",
       "      <td>36.913879</td>\n",
       "      <td>7.011895</td>\n",
       "      <td>10.605624</td>\n",
       "      <td>13.819960</td>\n",
       "      <td>9.220676</td>\n",
       "      <td>28.223104</td>\n",
       "      <td>25.020788</td>\n",
       "      <td>12.182205</td>\n",
       "      <td>51.669998</td>\n",
       "      <td>49.874241</td>\n",
       "    </tr>\n",
       "    <tr>\n",
       "      <th>2005-01-12</th>\n",
       "      <td>13.622632</td>\n",
       "      <td>0.999455</td>\n",
       "      <td>11.349197</td>\n",
       "      <td>14.17</td>\n",
       "      <td>14.952654</td>\n",
       "      <td>29.484215</td>\n",
       "      <td>23.425869</td>\n",
       "      <td>14.503919</td>\n",
       "      <td>22.148371</td>\n",
       "      <td>31.953520</td>\n",
       "      <td>...</td>\n",
       "      <td>37.251415</td>\n",
       "      <td>7.058410</td>\n",
       "      <td>10.684803</td>\n",
       "      <td>13.782939</td>\n",
       "      <td>9.210265</td>\n",
       "      <td>28.642065</td>\n",
       "      <td>24.935287</td>\n",
       "      <td>12.085085</td>\n",
       "      <td>50.910000</td>\n",
       "      <td>49.406685</td>\n",
       "    </tr>\n",
       "    <tr>\n",
       "      <th>2005-01-13</th>\n",
       "      <td>13.333963</td>\n",
       "      <td>1.065719</td>\n",
       "      <td>11.161545</td>\n",
       "      <td>12.45</td>\n",
       "      <td>14.665908</td>\n",
       "      <td>29.104290</td>\n",
       "      <td>23.122826</td>\n",
       "      <td>14.692193</td>\n",
       "      <td>21.719221</td>\n",
       "      <td>31.763618</td>\n",
       "      <td>...</td>\n",
       "      <td>36.948326</td>\n",
       "      <td>7.074916</td>\n",
       "      <td>10.605624</td>\n",
       "      <td>13.686286</td>\n",
       "      <td>9.298729</td>\n",
       "      <td>28.619408</td>\n",
       "      <td>24.669779</td>\n",
       "      <td>11.911839</td>\n",
       "      <td>51.060001</td>\n",
       "      <td>48.831833</td>\n",
       "    </tr>\n",
       "  </tbody>\n",
       "</table>\n",
       "<p>5 rows × 367 columns</p>\n",
       "</div>"
      ],
      "text/plain": [
       "                    A      AAPL        ABC   ABMD        ABT       ADBE  \\\n",
       "Date                                                                      \n",
       "2005-01-07  13.948145  1.057321  11.317923  14.29  15.050692  29.384233   \n",
       "2005-01-10  13.880588  1.052894  11.317923  14.42  15.196447  29.404230   \n",
       "2005-01-11  13.641056  0.985713  11.345287  14.31  14.917611  29.054298   \n",
       "2005-01-12  13.622632  0.999455  11.349197  14.17  14.952654  29.484215   \n",
       "2005-01-13  13.333963  1.065719  11.161545  12.45  14.665908  29.104290   \n",
       "\n",
       "                  ADI        ADM        ADP       ADSK  ...        WMT  \\\n",
       "Date                                                    ...              \n",
       "2005-01-07  23.419283  14.685472  22.294916  34.282318  ...  37.189400   \n",
       "2005-01-10  23.327053  14.806506  22.310617  34.222351  ...  37.003414   \n",
       "2005-01-11  23.109659  14.598061  22.352486  32.373302  ...  36.913879   \n",
       "2005-01-12  23.425869  14.503919  22.148371  31.953520  ...  37.251415   \n",
       "2005-01-13  23.122826  14.692193  21.719221  31.763618  ...  36.948326   \n",
       "\n",
       "                 WRB        WST         WY       XEL        XOM       XRAY  \\\n",
       "Date                                                                         \n",
       "2005-01-07  6.975882  10.584788  13.893993  9.064570  28.189127  24.471771   \n",
       "2005-01-10  7.007394  10.730645  13.951578  9.189453  28.296703  25.020788   \n",
       "2005-01-11  7.011895  10.605624  13.819960  9.220676  28.223104  25.020788   \n",
       "2005-01-12  7.058410  10.684803  13.782939  9.210265  28.642065  24.935287   \n",
       "2005-01-13  7.074916  10.605624  13.686286  9.298729  28.619408  24.669779   \n",
       "\n",
       "                  YUM       ZBRA       ZION  \n",
       "Date                                         \n",
       "2005-01-07  12.140292  53.099998  49.812916  \n",
       "2005-01-10  12.142917  53.840000  49.843578  \n",
       "2005-01-11  12.182205  51.669998  49.874241  \n",
       "2005-01-12  12.085085  50.910000  49.406685  \n",
       "2005-01-13  11.911839  51.060001  48.831833  \n",
       "\n",
       "[5 rows x 367 columns]"
      ]
     },
     "execution_count": 4,
     "metadata": {},
     "output_type": "execute_result"
    }
   ],
   "source": [
    "five_year_data=SP_Close[:1265] #5 years of data\n",
    "five_year_data.tail()"
   ]
  },
  {
   "cell_type": "code",
   "execution_count": 5,
   "id": "1d2ec8d8",
   "metadata": {},
   "outputs": [
    {
     "name": "stdout",
     "output_type": "stream",
     "text": [
      "Expected annual return: 44.8%\n",
      "Annual volatility: 13.6%\n",
      "Sharpe Ratio: 3.15\n",
      "(0.4481388941685277, 0.13591570334791897, 3.1500325835975818)\n"
     ]
    }
   ],
   "source": [
    "mu = mean_historical_return(five_year_data)\n",
    "S = CovarianceShrinkage(five_year_data).ledoit_wolf()\n",
    "ef = EfficientFrontier(mu, S)\n",
    "weights = ef.max_sharpe()\n",
    "cleaned_weights = ef.clean_weights()\n",
    "#ef.save_weights_to_file(\"weights.txt\")  # saves to file\n",
    "print(ef.portfolio_performance(verbose=True))"
   ]
  },
  {
   "cell_type": "markdown",
   "id": "edd1ad6c",
   "metadata": {},
   "source": [
    "## Look at some correlations and clustering to gather ideas"
   ]
  },
  {
   "cell_type": "code",
   "execution_count": 6,
   "id": "92d57956",
   "metadata": {},
   "outputs": [],
   "source": [
    "#corr = five_year_data.corr()\n",
    "#plt.figure(figsize=(12,8))\n",
    "#sns.clustermap(corr)"
   ]
  },
  {
   "cell_type": "code",
   "execution_count": 7,
   "id": "20952a5d",
   "metadata": {},
   "outputs": [],
   "source": [
    "import scipy.cluster.hierarchy as shc\n",
    "#plt.figure(figsize=(10, 7))  \n",
    "#plt.title(\"Dendrograms\")  \n",
    "#dend = shc.dendrogram(shc.linkage(corr, method='ward'))\n",
    "#plt.axhline(y=6, color='r', linestyle='--')"
   ]
  },
  {
   "cell_type": "code",
   "execution_count": 8,
   "id": "e82c5c8c",
   "metadata": {},
   "outputs": [],
   "source": [
    "from sklearn.cluster import AgglomerativeClustering\n",
    "#cluster = AgglomerativeClustering(n_clusters=None, affinity='euclidean', linkage='ward',distance_threshold=4)  \n",
    "#kclusters = cluster.fit_predict(corr)\n",
    "#stock_clusters=pd.DataFrame(SP_Close.columns.values)\n",
    "#stock_clusters=stock_clusters.set_index(0)\n",
    "#stock_clusters['cluster']=kclusters\n",
    "#print(stock_clusters['cluster'].max())"
   ]
  },
  {
   "cell_type": "code",
   "execution_count": 9,
   "id": "5b1f0b0c",
   "metadata": {},
   "outputs": [],
   "source": [
    "#plt.hist(stock_clusters,bins=stock_clusters['cluster'].max())"
   ]
  },
  {
   "cell_type": "code",
   "execution_count": 11,
   "id": "47d0591b",
   "metadata": {},
   "outputs": [],
   "source": [
    "#shrinkage\n",
    "def calculate_posterior_mean(like_pop, prior_pop): #for returns use geo mean then multiply by 253 to annualize at end\n",
    "    w0 = prior_pop.std()\n",
    "    mu0 = prior_pop.mean() - w0**2/2\n",
    "    w = like_pop.std()\n",
    "    dbar = like_pop.mean() - w**2/2\n",
    "    \n",
    "    B = w**2/(w**2+w0**2)\n",
    "    mu_s =dbar+B*(mu0-dbar)\n",
    "\n",
    "    return mu_s * 253"
   ]
  },
  {
   "cell_type": "code",
   "execution_count": 12,
   "id": "51cc4068",
   "metadata": {},
   "outputs": [],
   "source": [
    "def Portfolio_backtest(weight_vector) :\n",
    "    return_frame = SP_Close.loc[weight_vector.index]\n",
    "    return_frame = np.exp(np.log(return_frame).diff())-1\n",
    "    weighted_returns=weight_vector.shift(1)*return_frame\n",
    "    port_returns = np.sum(weighted_returns, axis=1) #shift so that we are using the weights we had over that period rather than the ones we found with hindsight\n",
    "    total_return=(port_returns+1).cumprod()\n",
    "    total_return.plot()\n",
    "    plt.title('Cumulative Return')\n",
    "    return port_returns"
   ]
  },
  {
   "cell_type": "markdown",
   "id": "506ae717-615c-46f7-be13-a3d0dbbae501",
   "metadata": {},
   "source": [
    "## Implement Clustering Influenced Dynamic Constraints"
   ]
  },
  {
   "cell_type": "code",
   "execution_count": 13,
   "id": "0e1e7c5a-0959-4983-9942-de3fc00f0116",
   "metadata": {
    "tags": []
   },
   "outputs": [],
   "source": [
    "def Cluster_Constraints(clusters,u_coef,l_coef): # weight coef for how overweight you can go\n",
    "    cluster_list = set(clusters.cluster)\n",
    "    cluster_map = dict(zip(clusters.index,clusters.cluster))\n",
    "    cluster_totals=[clusters.value_counts()[x] for x in cluster_list]\n",
    "    cluster_pct=np.array(cluster_totals)/len(clusters)\n",
    "    cluster_upper_l = dict(zip(cluster_list, cluster_pct*u_coef))\n",
    "    cluster_lower_l = dict(zip(cluster_list, - l_coef*cluster_pct))\n",
    "    return cluster_map, cluster_upper_l, cluster_lower_l"
   ]
  },
  {
   "cell_type": "code",
   "execution_count": 14,
   "id": "237eb248-0dfe-4927-823f-a57bba7f0645",
   "metadata": {},
   "outputs": [],
   "source": [
    "#for testing preset clusters\n",
    "def get_clusters(corr, cluster_number = 45, Thresh = None):\n",
    "    if Thresh == None:\n",
    "        cluster = AgglomerativeClustering(n_clusters=cluster_number, affinity='euclidean', linkage='ward')\n",
    "    else:\n",
    "        cluster = AgglomerativeClustering(n_clusters=None, affinity='euclidean', linkage='ward',distance_threshold=Thresh) \n",
    "    kclusters = cluster.fit_predict(corr)\n",
    "    stock_clusters=pd.DataFrame(SP_Close.columns.values)\n",
    "    stock_clusters=stock_clusters.set_index(0)\n",
    "    stock_clusters['cluster']=kclusters\n",
    "    return stock_clusters"
   ]
  },
  {
   "cell_type": "code",
   "execution_count": 15,
   "id": "6daedd97-c105-49e5-ad14-b634541e1c17",
   "metadata": {},
   "outputs": [],
   "source": [
    "class constrained_clusterings_precomputed:\n",
    "    \n",
    "    def __init__(self,lookback):\n",
    "        llist = [1,2,3,4,5]\n",
    "        if (int(lookback) != lookback) or (int(lookback) not in llist):\n",
    "            raise ValueError(\"Only lookback periods of\",llist,\"supported\")\n",
    "            \n",
    "        self.df = pd.read_pickle(str(int(lookback))+'.pkl')\n",
    "        self.names_df = pd.read_pickle('names.pkl')\n",
    "        \n",
    "#         corr_threshold = 0.7\n",
    "#         pct_threshold = 0.1\n",
    "#         date = datetime.strptime('3-31-2030','%m-%d-%Y')\n",
    "        \n",
    "            \n",
    "    def calcthresholds(self,corr_threshold,pct_threshold,date,DEBUG=False):\n",
    "        if date < min(self.df.index):\n",
    "            raise ValueError(\"Date must be >=\",min(self.df.index))\n",
    "        if date > max(self.df.index):\n",
    "            print(\"WARNING: USING\",max(self.df.index),\"FOR INPUT DATE\",date)\n",
    "        inddate = max(self.df.index[self.df.index <= date])\n",
    "#         print(inddate)\n",
    "#         print(self.df.loc[inddate])\n",
    "        if DEBUG:\n",
    "            print(\"DEBUG: USING\",inddate,\"FOR INPUT DATE\",date)\n",
    "        \n",
    "        clusters = self.df.loc[inddate]['Clusters']\n",
    "        numstocks = self.df.loc[inddate]['Numstocks']\n",
    "        internals = self.df.loc[inddate]['Corrs']\n",
    "        sz = clusters.shape[0]\n",
    "        \n",
    "        tmp = np.sum((internals<corr_threshold)*(numstocks/sz),axis=1)<pct_threshold\n",
    "        ret = (np.arange(0,sz)+1)[tmp]\n",
    "        if ret.shape[0] <= 0:\n",
    "            return None\n",
    "        OPTIMAL_NUMBER_OF_CLUSTERS = ret[0]\n",
    "        if DEBUG:\n",
    "            print(\"DEBUG: OPTIMAL NUMBER OF CLUSTERS:\",OPTIMAL_NUMBER_OF_CLUSTERS)\n",
    "        \n",
    "        ret_df = self.names_df\n",
    "        ret_df = ret_df.set_index(0)\n",
    "        ret_df['cluster'] = clusters[OPTIMAL_NUMBER_OF_CLUSTERS-1,:].astype(int)\n",
    "        \n",
    "#         print(OPTIMAL_NUMBER_OF_CLUSTERS)\n",
    "#         print(ret_df)\n",
    "        return ret_df"
   ]
  },
  {
   "cell_type": "code",
   "execution_count": 16,
   "id": "2583a958-b471-44ca-b78b-b54c50fa63b2",
   "metadata": {},
   "outputs": [],
   "source": [
    "import os\n",
    "filelist = ['1.pkl','2.pkl','3.pkl','4.pkl','5.pkl','names.pkl']\n",
    "for file in filelist:\n",
    "    if not os.path.exists(file):\n",
    "        raise ValueError(\"All of\",filelist,\"must be present\")\n",
    "        \n",
    "look1 = constrained_clusterings_precomputed(1)\n",
    "look2 = constrained_clusterings_precomputed(2)\n",
    "look3 = constrained_clusterings_precomputed(3)\n",
    "look4 = constrained_clusterings_precomputed(4)\n",
    "look5 = constrained_clusterings_precomputed(5)"
   ]
  },
  {
   "cell_type": "code",
   "execution_count": 17,
   "id": "26cfd879-8999-4961-85c4-ccaf6bc3426b",
   "metadata": {},
   "outputs": [],
   "source": [
    "def get_clusters_precomputed(lookback,corr_threshold,pct_threshold,date,DEBUG=False):\n",
    "    llist = [1,2,3,4,5]\n",
    "    if (int(lookback) != lookback) or (int(lookback) not in llist):\n",
    "        raise ValueError(\"Only lookback periods of\",llist,\"supported\")\n",
    "        \n",
    "    # Apparently pattern matching wasn't implemented until Python 3.10\n",
    "    if lookback == 1:\n",
    "        return look1.calcthresholds(corr_threshold,pct_threshold,date,DEBUG)\n",
    "    elif lookback == 2:\n",
    "        return look2.calcthresholds(corr_threshold,pct_threshold,date,DEBUG)\n",
    "    elif lookback == 3:\n",
    "        return look3.calcthresholds(corr_threshold,pct_threshold,date,DEBUG)\n",
    "    elif lookback == 4:\n",
    "        return look4.calcthresholds(corr_threshold,pct_threshold,date,DEBUG)\n",
    "    elif lookback == 5:\n",
    "        return look5.calcthresholds(corr_threshold,pct_threshold,date,DEBUG)\n",
    "    else:\n",
    "        raise ValueError(\"Something went wrong\")"
   ]
  },
  {
   "cell_type": "code",
   "execution_count": 18,
   "id": "b2f4ea00-d4bf-43cb-82a2-72a019fb7407",
   "metadata": {},
   "outputs": [],
   "source": [
    "import warnings\n",
    "warnings.filterwarnings('ignore')"
   ]
  },
  {
   "cell_type": "code",
   "execution_count": 19,
   "id": "f658d539-2392-44dc-a6aa-040bddc07832",
   "metadata": {},
   "outputs": [],
   "source": [
    "def Markowits_Bayes_Cluster_Rebalance(securities_vector, rebalance_period=21,prior_period = 253*5, update_period=0,\n",
    "                                      verbose=False,weight_bounds=(-.01,.1), cluster_u_coef=1.25, cluster_l_coef=.5,\n",
    "                                      corr_thresh = .75,leave_out_pct = .1, clust_num = None):\n",
    "    i=1\n",
    "    i_ =round((len(securities_vector)-prior_period)/rebalance_period)\n",
    "    weights_list=[]\n",
    "    dates=[]\n",
    "    cluster_list=[]\n",
    "    num=clust_num\n",
    "    for p in range(0,len(securities_vector)-prior_period,rebalance_period):\n",
    "        prior_vector = securities_vector[p:prior_period+p]\n",
    "        update_vector = securities_vector[prior_period+p-update_period:prior_period+p]\n",
    "        if verbose:\n",
    "            print(\"Iteration \" + str(i) + \" of \" + str(i_))\n",
    "            print(str(prior_vector.index[0]) + \" - \" + str(prior_vector.index[-1]))\n",
    "            \n",
    "        \n",
    "        if clust_num == None:\n",
    "            clusters= get_clusters_precomputed(prior_period/253,corr_thresh, leave_out_pct, date=prior_vector.index[-1])\n",
    "            num = clusters.max().values[0]\n",
    "            cluster_list.append(max(clusters))    \n",
    "        else:\n",
    "            clusters = get_clusters(prior_vector.corr(), cluster_number = clust_num)\n",
    "            cluster_list.append(clust_num) \n",
    "        c_map, c_upper, c_lower = Cluster_Constraints(clusters,cluster_u_coef,cluster_l_coef)\n",
    "        mu = mean_historical_return(prior_vector)  \n",
    "        if update_period != 0:\n",
    "            for i in range(num):\n",
    "                stocksNcluster = clusters.loc[clusters['cluster']==i].index\n",
    "                for stock in stocksNcluster:\n",
    "                    mu.loc[stock] = calculate_posterior_mean(update_vector[stock].pct_change().dropna().to_numpy(),\n",
    "                        prior_vector[stocksNcluster].pct_change().dropna().to_numpy())\n",
    "        \n",
    "        S = CovarianceShrinkage(prior_vector).ledoit_wolf()\n",
    "        ef = EfficientFrontier(mu, S,weight_bounds=weight_bounds)\n",
    "        ef.add_sector_constraints(c_map, c_lower, c_upper)\n",
    "        weights = ef.max_sharpe()\n",
    "        cleaned_weights = ef.clean_weights()\n",
    "        weights_list.append(cleaned_weights)\n",
    "        dates.append(prior_vector.index[-1])\n",
    "        i+=1\n",
    "    cluster_ts=pd.DataFrame(cluster_list)\n",
    "    cluster_ts.index=dates\n",
    "    cluster_ts.columns = ['Clusters']\n",
    "    weight_df=pd.DataFrame(weights_list)\n",
    "    weight_df.index=dates\n",
    "\n",
    "    return weight_df, cluster_ts"
   ]
  },
  {
   "cell_type": "markdown",
   "id": "826be81e-5f6b-4b9b-9ae3-1921af9b48fc",
   "metadata": {},
   "source": [
    "## Hyperparameter tuning"
   ]
  },
  {
   "cell_type": "code",
   "execution_count": 22,
   "id": "9b9e72ea-05bd-4a49-8f67-9c5602237be9",
   "metadata": {},
   "outputs": [],
   "source": [
    "#cluster_constrained_markowitz_set_num, _ = Markowits_Bayes_Cluster_Rebalance(SP_Close,21,252*5,verbose=False,clust_num=40)\n"
   ]
  },
  {
   "cell_type": "code",
   "execution_count": 24,
   "id": "27def3db-4828-4fe6-8b35-fc7f21192d4b",
   "metadata": {},
   "outputs": [
    {
     "data": {
      "text/plain": [
       "2005-01-06    0.000000\n",
       "2005-02-07    0.108756\n",
       "2005-03-09    0.011815\n",
       "2005-04-08    0.014288\n",
       "2005-05-09    0.003575\n",
       "                ...   \n",
       "2021-08-13    0.049368\n",
       "2021-09-14    0.052531\n",
       "2021-10-13   -0.018589\n",
       "2021-11-11    0.107216\n",
       "2021-12-13    0.019692\n",
       "Length: 204, dtype: float64"
      ]
     },
     "execution_count": 24,
     "metadata": {},
     "output_type": "execute_result"
    },
    {
     "data": {
      "image/png": "[encoded data removed]",
      "text/plain": [
       "<Figure size 432x288 with 1 Axes>"
      ]
     },
     "metadata": {
      "needs_background": "light"
     },
     "output_type": "display_data"
    }
   ],
   "source": [
    "#Portfolio_backtest(cluster_constrained_markowitz_set_num)"
   ]
  },
  {
   "cell_type": "code",
   "execution_count": 7,
   "id": "9db2ca2a-28a2-4bae-9b69-056de0c8b7fe",
   "metadata": {},
   "outputs": [
    {
     "ename": "SyntaxError",
     "evalue": "invalid syntax (Temp/ipykernel_16592/1160104352.py, line 25)",
     "output_type": "error",
     "traceback": [
      "\u001b[1;36m  File \u001b[1;32m\"C:\\Users\\taino\\AppData\\Local\\Temp/ipykernel_16592/1160104352.py\"\u001b[1;36m, line \u001b[1;32m25\u001b[0m\n\u001b[1;33m    PICKLE_NAME =\u001b[0m\n\u001b[1;37m                  ^\u001b[0m\n\u001b[1;31mSyntaxError\u001b[0m\u001b[1;31m:\u001b[0m invalid syntax\n"
     ]
    }
   ],
   "source": [
    "import itertools\n",
    "import random\n",
    "import time\n",
    "import copy\n",
    "import pickle\n",
    "def random_grid_search(securities_vec, number_of_samples = 50, \n",
    "                       rebal_prd_list = [63,253],#[21,63,253],\n",
    "                       prior_prd_list = [253,2*253,5*253],\n",
    "                       update_prd_list = [63, 253],\n",
    "                       low_stk_bound_list = [-.007, -.005, -.003],\n",
    "                       up_stk_bound_list = [.01,.02,.05,.1],\n",
    "                       cluster_u_coef_list = [2,3,5],\n",
    "                       cluster_l_coef_list = [-.02, -.05, -.1],\n",
    "                       corr_thesh_list = [.5,.6,.7,.8],\n",
    "                       stock_tresh_list = [.05] ):\n",
    "\n",
    "#     permutations = []\n",
    "    tuple_returns_dict = {}\n",
    "#     for rebal,prior,update,lstk,ustk,clu,cll,corr,stock in itertools.product(rebal_prd_list, prior_prd_list, update_prd_list, low_stk_bound_list, \\\n",
    "#                                                     up_stk_bound_list,cluster_u_coef_list, cluster_l_coef_list, corr_thesh_list, stock_tresh_list):\n",
    "#         if update_prd_list >= rebal_prd_list:\n",
    "#             permutations.append((rebal,prior,update,lstk,ustk,clu,cll,corr,stock))\n",
    "#     list_of_tuples = random.sample(permutations, number_of_samples)\n",
    "\n",
    "    PICKLE_NAME = \n",
    "    assert(\"new\" in PICKLE_NAME)\n",
    "    with open(PICKLE_NAME, 'rb') as handle:\n",
    "        list_of_tuples_all = pickle.load(handle)\n",
    "    list_of_tuples = copy.deepcopy(list_of_tuples_all)\n",
    "    \n",
    "    for tuuple_ind in range(min(number_of_samples,len(list_of_tuples))):\n",
    "        tuuple = list_of_tuples[tuuple_ind]\n",
    "        print(tuuple)\n",
    "        try:\n",
    "            weights,_ = Markowits_Bayes_Cluster_Rebalance(securities_vec, rebalance_period=tuuple[0],prior_period = tuuple[1],update_period=tuuple[2],\\\n",
    "                                      verbose=False, weight_bounds=(tuuple[3],tuuple[4]), cluster_u_coef=tuuple[5], cluster_l_coef=tuuple[6],\\\n",
    "                                          corr_thresh = tuuple[7], leave_out_pct = tuuple[8], clust_num = None)\n",
    "            performance_series = Portfolio_backtest(weights)\n",
    "            performance_series = performance_series.loc[\"2005\":]\n",
    "        except KeyboardInterrupt:\n",
    "            print('KeyboardInterrupt')\n",
    "            break\n",
    "#             with open('res_'+str(int(time.time()))+'.pickle', 'wb') as handle:\n",
    "#                 pickle.dump(tuple_returns_dict, handle, protocol=pickle.HIGHEST_PROTOCOL)\n",
    "#             with open(PICKLE_NAME, 'wb') as handle:\n",
    "#                 pickle.dump(list_of_tuples_all, handle, protocol=pickle.HIGHEST_PROTOCOL)\n",
    "#             return tuple_returns_dict\n",
    "        except:\n",
    "            weights = None\n",
    "            performance_series = None\n",
    "            print('Infeasible')\n",
    "        \n",
    "        list_of_tuples_all.pop(0)\n",
    "        tuple_returns_dict[tuuple] = performance_series\n",
    "#         print(performance_series)\n",
    "#         return performance_series\n",
    "    with open('res_'+str(int(time.time()))+'.pickle', 'wb') as handle:\n",
    "        pickle.dump(tuple_returns_dict, handle, protocol=pickle.HIGHEST_PROTOCOL)\n",
    "    with open(PICKLE_NAME, 'wb') as handle:\n",
    "        pickle.dump(list_of_tuples_all, handle, protocol=pickle.HIGHEST_PROTOCOL)\n",
    "    return tuple_returns_dict"
   ]
  },
  {
   "cell_type": "code",
   "execution_count": 51,
   "id": "fcfdfca8",
   "metadata": {
    "tags": []
   },
   "outputs": [
    {
     "name": "stdout",
     "output_type": "stream",
     "text": [
      "Please remove all \"cc__new.pickle\" files except the one you are running:\n",
      "David:\"cc1_new.pickle\"\n",
      "Tainon:\"cc2_new.pickle\"\n",
      "Evan:\"cc3_new.pickle\"\n"
     ]
    },
    {
     "ename": "AssertionError",
     "evalue": "",
     "output_type": "error",
     "traceback": [
      "\u001b[1;31m---------------------------------------------------------------------------\u001b[0m",
      "\u001b[1;31mAssertionError\u001b[0m                            Traceback (most recent call last)",
      "\u001b[1;32m~\\AppData\\Local\\Temp/ipykernel_16592/2825899291.py\u001b[0m in \u001b[0;36m<module>\u001b[1;34m\u001b[0m\n\u001b[0;32m      9\u001b[0m \u001b[1;32mif\u001b[0m \u001b[0mnumf\u001b[0m \u001b[1;33m>\u001b[0m \u001b[1;36m1\u001b[0m\u001b[1;33m:\u001b[0m\u001b[1;33m\u001b[0m\u001b[1;33m\u001b[0m\u001b[0m\n\u001b[0;32m     10\u001b[0m     \u001b[0mprint\u001b[0m\u001b[1;33m(\u001b[0m\u001b[1;34m\"Please remove all \\\"cc__new.pickle\\\" files except the one you are running:\\nDavid:\\\"cc1_new.pickle\\\"\\nTainon:\\\"cc2_new.pickle\\\"\\nEvan:\\\"cc3_new.pickle\\\"\"\u001b[0m\u001b[1;33m)\u001b[0m\u001b[1;33m\u001b[0m\u001b[1;33m\u001b[0m\u001b[0m\n\u001b[1;32m---> 11\u001b[1;33m     \u001b[1;32massert\u001b[0m\u001b[1;33m(\u001b[0m\u001b[1;36m0\u001b[0m\u001b[1;33m==\u001b[0m\u001b[1;36m1\u001b[0m\u001b[1;33m)\u001b[0m\u001b[1;33m\u001b[0m\u001b[1;33m\u001b[0m\u001b[0m\n\u001b[0m\u001b[0;32m     12\u001b[0m \u001b[1;32mif\u001b[0m \u001b[0mnumf\u001b[0m \u001b[1;33m<\u001b[0m \u001b[1;36m1\u001b[0m\u001b[1;33m:\u001b[0m\u001b[1;33m\u001b[0m\u001b[1;33m\u001b[0m\u001b[0m\n\u001b[0;32m     13\u001b[0m     \u001b[0mprint\u001b[0m\u001b[1;33m(\u001b[0m\u001b[1;34m\"Make sure you've downloaded the right \\\"cc__new.pickle\\\" file:\\nDavid:\\\"cc1_new.pickle\\\"\\nTainon:\\\"cc2_new.pickle\\\"\\nEvan:\\\"cc3_new.pickle\\\"\"\u001b[0m\u001b[1;33m)\u001b[0m\u001b[1;33m\u001b[0m\u001b[1;33m\u001b[0m\u001b[0m\n",
      "\u001b[1;31mAssertionError\u001b[0m: "
     ]
    }
   ],
   "source": [
    "import os\n",
    "\n",
    "listf = [\"cc1_new.pickle\",\"cc2_new.pickle\",\"cc3_new.pickle\"]\n",
    "numf = 0\n",
    "for i in listf:\n",
    "    if os.path.exists(i):\n",
    "        numf += 1\n",
    "        namef = i\n",
    "if numf > 1:\n",
    "    print(\"Please remove all \\\"cc__new.pickle\\\" files except the one you are running:\\nDavid:\\\"cc1_new.pickle\\\"\\nTainon:\\\"cc2_new.pickle\\\"\\nEvan:\\\"cc3_new.pickle\\\"\")\n",
    "    assert(0==1)\n",
    "if numf < 1:\n",
    "    print(\"Make sure you've downloaded the right \\\"cc__new.pickle\\\" file:\\nDavid:\\\"cc1_new.pickle\\\"\\nTainon:\\\"cc2_new.pickle\\\"\\nEvan:\\\"cc3_new.pickle\\\"\")\n",
    "    assert(0==1)\n",
    "print(\"Currently running on:\\n\"+namef)\n",
    "    \n",
    "while True:\n",
    "    dictionary = random_grid_search(SP_Close[:'2018-01-01'], number_of_samples=30)"
   ]
  },
  {
   "cell_type": "code",
   "execution_count": null,
   "id": "fff8021b",
   "metadata": {},
   "outputs": [],
   "source": [
    "with open('res_1652548211.pickle', 'rb') as handle:\n",
    "    origg = pickle.load(handle)\n",
    "print(origg)"
   ]
  },
  {
   "cell_type": "code",
   "execution_count": null,
   "id": "5320fade",
   "metadata": {},
   "outputs": [],
   "source": [
    "with open('dd1.pickle', 'rb') as handle:\n",
    "    origg = pickle.load(handle)\n",
    "print(len(origg))\n",
    "for i in origg:\n",
    "    print(i)"
   ]
  },
  {
   "cell_type": "code",
   "execution_count": null,
   "id": "8bec43ce-926d-4171-859e-c5b424c03b23",
   "metadata": {},
   "outputs": [],
   "source": []
  }
 ],
 "metadata": {
  "kernelspec": {
   "display_name": "Python 3 (ipykernel)",
   "language": "python",
   "name": "python3"
  },
  "language_info": {
   "codemirror_mode": {
    "name": "ipython",
    "version": 3
   },
   "file_extension": ".py",
   "mimetype": "text/x-python",
   "name": "python",
   "nbconvert_exporter": "python",
   "pygments_lexer": "ipython3",
   "version": "3.8.3"
  }
 },
 "nbformat": 4,
 "nbformat_minor": 5
}
